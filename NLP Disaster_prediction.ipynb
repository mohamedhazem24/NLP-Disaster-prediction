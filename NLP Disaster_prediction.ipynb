{
 "cells": [
  {
   "cell_type": "markdown",
   "id": "854c9ac0",
   "metadata": {},
   "source": [
    "# Disaster classification"
   ]
  },
  {
   "cell_type": "markdown",
   "id": "0f9dc537",
   "metadata": {},
   "source": [
    "## -import libraries "
   ]
  },
  {
   "cell_type": "code",
   "execution_count": 1,
   "id": "60a08287",
   "metadata": {},
   "outputs": [],
   "source": [
    "#for Data manipulation and visulization.\n",
    "import pandas as pd\n",
    "import numpy as np \n",
    "import matplotlib.pyplot as plt\n",
    "import seaborn as sns\n",
    "\n",
    "#for NLP pre-processing\n",
    "import nltk\n",
    "from nltk.corpus import stopwords\n",
    "import re\n",
    "import string\n",
    "from nltk.stem import PorterStemmer\n",
    "from tensorflow.keras.preprocessing.text import Tokenizer\n",
    "from tensorflow.keras.preprocessing.sequence import pad_sequences\n",
    "from sklearn.model_selection import train_test_split\n",
    "from sklearn.preprocessing import LabelEncoder\n",
    "\n",
    "#for Deep learning model\n",
    "import tensorflow as tf\n",
    "from tensorflow.keras import Sequential\n",
    "from tensorflow.keras.layers import Dense,LSTM,Dropout,GlobalAveragePooling1D,Embedding\n",
    "from sklearn import metrics\n",
    "from tensorflow.keras.optimizers import RMSprop\n",
    "import random as rn\n",
    "import pickle as pck\n",
    "from sklearn.metrics import confusion_matrix"
   ]
  },
  {
   "cell_type": "markdown",
   "id": "056c4093",
   "metadata": {},
   "source": [
    "## 1-Load Dataset"
   ]
  },
  {
   "cell_type": "code",
   "execution_count": 2,
   "id": "99f18b9c",
   "metadata": {},
   "outputs": [],
   "source": [
    "df=pd.read_csv(r\"C:\\Users\\user\\Predcition disaster\\train.csv\")"
   ]
  },
  {
   "cell_type": "markdown",
   "id": "aaff10f4",
   "metadata": {},
   "source": [
    "## ----------------------------------------------------------------------------------------------------------------------------------"
   ]
  },
  {
   "cell_type": "markdown",
   "id": "d6be76b9",
   "metadata": {},
   "source": [
    "## 2- Check head and info of the data"
   ]
  },
  {
   "cell_type": "code",
   "execution_count": 4,
   "id": "44c77f68",
   "metadata": {
    "scrolled": false
   },
   "outputs": [
    {
     "data": {
      "text/html": [
       "<div>\n",
       "<style scoped>\n",
       "    .dataframe tbody tr th:only-of-type {\n",
       "        vertical-align: middle;\n",
       "    }\n",
       "\n",
       "    .dataframe tbody tr th {\n",
       "        vertical-align: top;\n",
       "    }\n",
       "\n",
       "    .dataframe thead th {\n",
       "        text-align: right;\n",
       "    }\n",
       "</style>\n",
       "<table border=\"1\" class=\"dataframe\">\n",
       "  <thead>\n",
       "    <tr style=\"text-align: right;\">\n",
       "      <th></th>\n",
       "      <th>id</th>\n",
       "      <th>keyword</th>\n",
       "      <th>location</th>\n",
       "      <th>text</th>\n",
       "      <th>target</th>\n",
       "    </tr>\n",
       "  </thead>\n",
       "  <tbody>\n",
       "    <tr>\n",
       "      <th>0</th>\n",
       "      <td>1</td>\n",
       "      <td>NaN</td>\n",
       "      <td>NaN</td>\n",
       "      <td>Our Deeds are the Reason of this #earthquake M...</td>\n",
       "      <td>1</td>\n",
       "    </tr>\n",
       "    <tr>\n",
       "      <th>1</th>\n",
       "      <td>4</td>\n",
       "      <td>NaN</td>\n",
       "      <td>NaN</td>\n",
       "      <td>Forest fire near La Ronge Sask. Canada</td>\n",
       "      <td>1</td>\n",
       "    </tr>\n",
       "    <tr>\n",
       "      <th>2</th>\n",
       "      <td>5</td>\n",
       "      <td>NaN</td>\n",
       "      <td>NaN</td>\n",
       "      <td>All residents asked to 'shelter in place' are ...</td>\n",
       "      <td>1</td>\n",
       "    </tr>\n",
       "    <tr>\n",
       "      <th>3</th>\n",
       "      <td>6</td>\n",
       "      <td>NaN</td>\n",
       "      <td>NaN</td>\n",
       "      <td>13,000 people receive #wildfires evacuation or...</td>\n",
       "      <td>1</td>\n",
       "    </tr>\n",
       "    <tr>\n",
       "      <th>4</th>\n",
       "      <td>7</td>\n",
       "      <td>NaN</td>\n",
       "      <td>NaN</td>\n",
       "      <td>Just got sent this photo from Ruby #Alaska as ...</td>\n",
       "      <td>1</td>\n",
       "    </tr>\n",
       "    <tr>\n",
       "      <th>5</th>\n",
       "      <td>8</td>\n",
       "      <td>NaN</td>\n",
       "      <td>NaN</td>\n",
       "      <td>#RockyFire Update =&gt; California Hwy. 20 closed...</td>\n",
       "      <td>1</td>\n",
       "    </tr>\n",
       "    <tr>\n",
       "      <th>6</th>\n",
       "      <td>10</td>\n",
       "      <td>NaN</td>\n",
       "      <td>NaN</td>\n",
       "      <td>#flood #disaster Heavy rain causes flash flood...</td>\n",
       "      <td>1</td>\n",
       "    </tr>\n",
       "    <tr>\n",
       "      <th>7</th>\n",
       "      <td>13</td>\n",
       "      <td>NaN</td>\n",
       "      <td>NaN</td>\n",
       "      <td>I'm on top of the hill and I can see a fire in...</td>\n",
       "      <td>1</td>\n",
       "    </tr>\n",
       "    <tr>\n",
       "      <th>8</th>\n",
       "      <td>14</td>\n",
       "      <td>NaN</td>\n",
       "      <td>NaN</td>\n",
       "      <td>There's an emergency evacuation happening now ...</td>\n",
       "      <td>1</td>\n",
       "    </tr>\n",
       "    <tr>\n",
       "      <th>9</th>\n",
       "      <td>15</td>\n",
       "      <td>NaN</td>\n",
       "      <td>NaN</td>\n",
       "      <td>I'm afraid that the tornado is coming to our a...</td>\n",
       "      <td>1</td>\n",
       "    </tr>\n",
       "  </tbody>\n",
       "</table>\n",
       "</div>"
      ],
      "text/plain": [
       "   id keyword location                                               text  \\\n",
       "0   1     NaN      NaN  Our Deeds are the Reason of this #earthquake M...   \n",
       "1   4     NaN      NaN             Forest fire near La Ronge Sask. Canada   \n",
       "2   5     NaN      NaN  All residents asked to 'shelter in place' are ...   \n",
       "3   6     NaN      NaN  13,000 people receive #wildfires evacuation or...   \n",
       "4   7     NaN      NaN  Just got sent this photo from Ruby #Alaska as ...   \n",
       "5   8     NaN      NaN  #RockyFire Update => California Hwy. 20 closed...   \n",
       "6  10     NaN      NaN  #flood #disaster Heavy rain causes flash flood...   \n",
       "7  13     NaN      NaN  I'm on top of the hill and I can see a fire in...   \n",
       "8  14     NaN      NaN  There's an emergency evacuation happening now ...   \n",
       "9  15     NaN      NaN  I'm afraid that the tornado is coming to our a...   \n",
       "\n",
       "   target  \n",
       "0       1  \n",
       "1       1  \n",
       "2       1  \n",
       "3       1  \n",
       "4       1  \n",
       "5       1  \n",
       "6       1  \n",
       "7       1  \n",
       "8       1  \n",
       "9       1  "
      ]
     },
     "execution_count": 4,
     "metadata": {},
     "output_type": "execute_result"
    }
   ],
   "source": [
    "df.head(10)"
   ]
  },
  {
   "cell_type": "code",
   "execution_count": 5,
   "id": "f85c4a72",
   "metadata": {},
   "outputs": [
    {
     "data": {
      "text/html": [
       "<div>\n",
       "<style scoped>\n",
       "    .dataframe tbody tr th:only-of-type {\n",
       "        vertical-align: middle;\n",
       "    }\n",
       "\n",
       "    .dataframe tbody tr th {\n",
       "        vertical-align: top;\n",
       "    }\n",
       "\n",
       "    .dataframe thead th {\n",
       "        text-align: right;\n",
       "    }\n",
       "</style>\n",
       "<table border=\"1\" class=\"dataframe\">\n",
       "  <thead>\n",
       "    <tr style=\"text-align: right;\">\n",
       "      <th></th>\n",
       "      <th>id</th>\n",
       "      <th>keyword</th>\n",
       "      <th>location</th>\n",
       "      <th>text</th>\n",
       "      <th>target</th>\n",
       "    </tr>\n",
       "  </thead>\n",
       "  <tbody>\n",
       "    <tr>\n",
       "      <th>15</th>\n",
       "      <td>23</td>\n",
       "      <td>NaN</td>\n",
       "      <td>NaN</td>\n",
       "      <td>What's up man?</td>\n",
       "      <td>0</td>\n",
       "    </tr>\n",
       "    <tr>\n",
       "      <th>16</th>\n",
       "      <td>24</td>\n",
       "      <td>NaN</td>\n",
       "      <td>NaN</td>\n",
       "      <td>I love fruits</td>\n",
       "      <td>0</td>\n",
       "    </tr>\n",
       "    <tr>\n",
       "      <th>17</th>\n",
       "      <td>25</td>\n",
       "      <td>NaN</td>\n",
       "      <td>NaN</td>\n",
       "      <td>Summer is lovely</td>\n",
       "      <td>0</td>\n",
       "    </tr>\n",
       "    <tr>\n",
       "      <th>18</th>\n",
       "      <td>26</td>\n",
       "      <td>NaN</td>\n",
       "      <td>NaN</td>\n",
       "      <td>My car is so fast</td>\n",
       "      <td>0</td>\n",
       "    </tr>\n",
       "    <tr>\n",
       "      <th>19</th>\n",
       "      <td>28</td>\n",
       "      <td>NaN</td>\n",
       "      <td>NaN</td>\n",
       "      <td>What a goooooooaaaaaal!!!!!!</td>\n",
       "      <td>0</td>\n",
       "    </tr>\n",
       "    <tr>\n",
       "      <th>...</th>\n",
       "      <td>...</td>\n",
       "      <td>...</td>\n",
       "      <td>...</td>\n",
       "      <td>...</td>\n",
       "      <td>...</td>\n",
       "    </tr>\n",
       "    <tr>\n",
       "      <th>7581</th>\n",
       "      <td>10833</td>\n",
       "      <td>wrecked</td>\n",
       "      <td>Lincoln</td>\n",
       "      <td>@engineshed Great atmosphere at the British Li...</td>\n",
       "      <td>0</td>\n",
       "    </tr>\n",
       "    <tr>\n",
       "      <th>7582</th>\n",
       "      <td>10834</td>\n",
       "      <td>wrecked</td>\n",
       "      <td>NaN</td>\n",
       "      <td>Cramer: Iger's 3 words that wrecked Disney's s...</td>\n",
       "      <td>0</td>\n",
       "    </tr>\n",
       "    <tr>\n",
       "      <th>7584</th>\n",
       "      <td>10837</td>\n",
       "      <td>NaN</td>\n",
       "      <td>NaN</td>\n",
       "      <td>These boxes are ready to explode! Exploding Ki...</td>\n",
       "      <td>0</td>\n",
       "    </tr>\n",
       "    <tr>\n",
       "      <th>7587</th>\n",
       "      <td>10841</td>\n",
       "      <td>NaN</td>\n",
       "      <td>NaN</td>\n",
       "      <td>Sirens everywhere!</td>\n",
       "      <td>0</td>\n",
       "    </tr>\n",
       "    <tr>\n",
       "      <th>7593</th>\n",
       "      <td>10848</td>\n",
       "      <td>NaN</td>\n",
       "      <td>NaN</td>\n",
       "      <td>I just heard a really loud bang and everyone i...</td>\n",
       "      <td>0</td>\n",
       "    </tr>\n",
       "  </tbody>\n",
       "</table>\n",
       "<p>4342 rows × 5 columns</p>\n",
       "</div>"
      ],
      "text/plain": [
       "         id  keyword location  \\\n",
       "15       23      NaN      NaN   \n",
       "16       24      NaN      NaN   \n",
       "17       25      NaN      NaN   \n",
       "18       26      NaN      NaN   \n",
       "19       28      NaN      NaN   \n",
       "...     ...      ...      ...   \n",
       "7581  10833  wrecked  Lincoln   \n",
       "7582  10834  wrecked      NaN   \n",
       "7584  10837      NaN      NaN   \n",
       "7587  10841      NaN      NaN   \n",
       "7593  10848      NaN      NaN   \n",
       "\n",
       "                                                   text  target  \n",
       "15                                       What's up man?       0  \n",
       "16                                        I love fruits       0  \n",
       "17                                     Summer is lovely       0  \n",
       "18                                    My car is so fast       0  \n",
       "19                         What a goooooooaaaaaal!!!!!!       0  \n",
       "...                                                 ...     ...  \n",
       "7581  @engineshed Great atmosphere at the British Li...       0  \n",
       "7582  Cramer: Iger's 3 words that wrecked Disney's s...       0  \n",
       "7584  These boxes are ready to explode! Exploding Ki...       0  \n",
       "7587                                 Sirens everywhere!       0  \n",
       "7593  I just heard a really loud bang and everyone i...       0  \n",
       "\n",
       "[4342 rows x 5 columns]"
      ]
     },
     "execution_count": 5,
     "metadata": {},
     "output_type": "execute_result"
    }
   ],
   "source": [
    "df[df['target']==0]"
   ]
  },
  {
   "cell_type": "code",
   "execution_count": 6,
   "id": "a92ca784",
   "metadata": {
    "scrolled": true
   },
   "outputs": [
    {
     "name": "stdout",
     "output_type": "stream",
     "text": [
      "<class 'pandas.core.frame.DataFrame'>\n",
      "RangeIndex: 7613 entries, 0 to 7612\n",
      "Data columns (total 5 columns):\n",
      " #   Column    Non-Null Count  Dtype \n",
      "---  ------    --------------  ----- \n",
      " 0   id        7613 non-null   int64 \n",
      " 1   keyword   7552 non-null   object\n",
      " 2   location  5080 non-null   object\n",
      " 3   text      7613 non-null   object\n",
      " 4   target    7613 non-null   int64 \n",
      "dtypes: int64(2), object(3)\n",
      "memory usage: 297.5+ KB\n"
     ]
    }
   ],
   "source": [
    "df.info()"
   ]
  },
  {
   "cell_type": "markdown",
   "id": "c0d356e5",
   "metadata": {},
   "source": [
    "## ----------------------------------------------------------------------------------------------------------------------------------"
   ]
  },
  {
   "cell_type": "markdown",
   "id": "99dbce4c",
   "metadata": {},
   "source": [
    "## 3- Is there a missing data [how many and the percentage if there]?"
   ]
  },
  {
   "cell_type": "code",
   "execution_count": 7,
   "id": "15771008",
   "metadata": {
    "scrolled": false
   },
   "outputs": [
    {
     "data": {
      "text/plain": [
       "id             0\n",
       "keyword       61\n",
       "location    2533\n",
       "text           0\n",
       "target         0\n",
       "dtype: int64"
      ]
     },
     "execution_count": 7,
     "metadata": {},
     "output_type": "execute_result"
    }
   ],
   "source": [
    "df.isnull().sum()"
   ]
  },
  {
   "cell_type": "code",
   "execution_count": 176,
   "id": "b415fd44",
   "metadata": {},
   "outputs": [
    {
     "data": {
      "text/plain": [
       "'location'"
      ]
     },
     "execution_count": 176,
     "metadata": {},
     "output_type": "execute_result"
    }
   ],
   "source": [
    "df.keys()[2]"
   ]
  },
  {
   "cell_type": "code",
   "execution_count": 177,
   "id": "7b560abd",
   "metadata": {},
   "outputs": [
    {
     "name": "stdout",
     "output_type": "stream",
     "text": [
      "-----------------------------------------------------------\n",
      "In  id  there is  none  of the data is missing\n",
      "-----------------------------------------------------------\n",
      "In  keyword  there is  0.8012610009194797  of the data is missing\n",
      "-----------------------------------------------------------\n",
      "In  location  there is  33.27203467752528  of the data is missing\n",
      "-----------------------------------------------------------\n",
      "In  text  there is  none  of the data is missing\n",
      "-----------------------------------------------------------\n",
      "In  target  there is  none  of the data is missing\n"
     ]
    }
   ],
   "source": [
    "#find a better print format\n",
    "for index,nulls in enumerate(df.isnull().sum()):\n",
    "    per=nulls/df.shape[0]*100\n",
    "    if(per==0.0):per=\"none\"\n",
    "    feature=df.keys()[index]\n",
    "    print(\"-----------------------------------------------------------\")\n",
    "    print(\"In \",feature,\" there is \",per,\" of the data is missing\")\n",
    "    \n",
    "    "
   ]
  },
  {
   "cell_type": "markdown",
   "id": "1c986148",
   "metadata": {},
   "source": [
    "### Note : we found that location is the most feature of missing data."
   ]
  },
  {
   "cell_type": "markdown",
   "id": "73c76f50",
   "metadata": {},
   "source": [
    "## ----------------------------------------------------------------------------------------------------------------------------------"
   ]
  },
  {
   "cell_type": "markdown",
   "id": "76782b29",
   "metadata": {},
   "source": [
    "## 4- How many data in each class?"
   ]
  },
  {
   "cell_type": "code",
   "execution_count": 178,
   "id": "62478492",
   "metadata": {},
   "outputs": [
    {
     "name": "stdout",
     "output_type": "stream",
     "text": [
      "we have 3271 of class 1\n",
      "we have 4342 of class 0\n"
     ]
    }
   ],
   "source": [
    "for i in df['target'].unique():\n",
    "    print(\"we have\",df[df['target']==i].shape[0],\"of class\",i)"
   ]
  },
  {
   "cell_type": "code",
   "execution_count": 179,
   "id": "d05cda7d",
   "metadata": {},
   "outputs": [],
   "source": [
    "df_0=df[df['target']==0].replace(np.nan,\"unknown\")\n",
    "df_1=df[df['target']==1].replace(np.nan,\"unknown\")"
   ]
  },
  {
   "cell_type": "markdown",
   "id": "4708bd61",
   "metadata": {},
   "source": [
    "## ----------------------------------------------------------------------------------------------------------------------------------"
   ]
  },
  {
   "cell_type": "markdown",
   "id": "c31458a2",
   "metadata": {},
   "source": [
    "## 5- Get the top 15 locations of the data"
   ]
  },
  {
   "cell_type": "code",
   "execution_count": 76,
   "id": "caf77b59",
   "metadata": {},
   "outputs": [],
   "source": [
    "freq_loc_0=dict()\n",
    "for location in df_0['location'].unique():\n",
    "    freq_loc_0[location]=0\n",
    "for location in df_0['location']:\n",
    "    freq_loc_0[location]+=1\n",
    "   "
   ]
  },
  {
   "cell_type": "code",
   "execution_count": 77,
   "id": "ade37c1b",
   "metadata": {
    "scrolled": true
   },
   "outputs": [],
   "source": [
    "freq_loc_1=dict()\n",
    "for location in df_1['location'].dropna().unique():\n",
    "    freq_loc_1[location]=0\n",
    "for location in df_1['location'].dropna():\n",
    "    freq_loc_1[location]+=1\n",
    "   "
   ]
  },
  {
   "cell_type": "code",
   "execution_count": 78,
   "id": "e8bdb9ea",
   "metadata": {
    "scrolled": true
   },
   "outputs": [],
   "source": [
    "loc_df_0=pd.DataFrame(freq_loc_0.values(),index=freq_loc_0.keys(),columns=[\"freq\"]).sort_values('freq',ascending=False)\n",
    "loc_df_1=pd.DataFrame(freq_loc_1.values(),index=freq_loc_1.keys(),columns=[\"freq\"]).sort_values('freq',ascending=False)\n"
   ]
  },
  {
   "cell_type": "code",
   "execution_count": 79,
   "id": "9cfe98d8",
   "metadata": {
    "scrolled": true
   },
   "outputs": [
    {
     "name": "stdout",
     "output_type": "stream",
     "text": [
      "Index(['New York', 'USA', 'London', 'United States', 'Los Angeles, CA',\n",
      "       'Canada', 'Kenya', 'Everywhere', 'UK', 'Florida', 'United Kingdom',\n",
      "       'California', 'NYC', 'Australia', 'Chicago, IL'],\n",
      "      dtype='object')\n",
      "[55 37 29 23 18 16 15 12 11 11 10 10 10  9  9]\n",
      "Index(['USA', 'United States', 'Nigeria', 'India', 'Mumbai', 'New York', 'UK',\n",
      "       'London', 'Washington, DC', 'Canada', 'Worldwide', 'Chicago, IL',\n",
      "       'Washington, D.C.', 'Australia', 'Earth'],\n",
      "      dtype='object')\n",
      "[67 27 22 20 19 16 16 16 15 13 12  9  9  9  8]\n"
     ]
    }
   ],
   "source": [
    "keys_0=loc_df_0.index[1:16]\n",
    "val_0=loc_df_0.iloc[1:16]['freq'].values\n",
    "print(keys_0)\n",
    "print(val_0)\n",
    "keys_1=loc_df_1.index[1:16]\n",
    "val_1=loc_df_1.iloc[1:16]['freq'].values\n",
    "print(keys_1)\n",
    "print(val_1)"
   ]
  },
  {
   "cell_type": "code",
   "execution_count": 80,
   "id": "3bb617bc",
   "metadata": {},
   "outputs": [
    {
     "data": {
      "text/html": [
       "<div>\n",
       "<style scoped>\n",
       "    .dataframe tbody tr th:only-of-type {\n",
       "        vertical-align: middle;\n",
       "    }\n",
       "\n",
       "    .dataframe tbody tr th {\n",
       "        vertical-align: top;\n",
       "    }\n",
       "\n",
       "    .dataframe thead th {\n",
       "        text-align: right;\n",
       "    }\n",
       "</style>\n",
       "<table border=\"1\" class=\"dataframe\">\n",
       "  <thead>\n",
       "    <tr style=\"text-align: right;\">\n",
       "      <th></th>\n",
       "      <th>freq</th>\n",
       "    </tr>\n",
       "  </thead>\n",
       "  <tbody>\n",
       "    <tr>\n",
       "      <th>Brazil</th>\n",
       "      <td>3</td>\n",
       "    </tr>\n",
       "    <tr>\n",
       "      <th>#FLIGHTCITY UK</th>\n",
       "      <td>3</td>\n",
       "    </tr>\n",
       "    <tr>\n",
       "      <th>Massachusetts</th>\n",
       "      <td>3</td>\n",
       "    </tr>\n",
       "    <tr>\n",
       "      <th>Denver, CO</th>\n",
       "      <td>3</td>\n",
       "    </tr>\n",
       "    <tr>\n",
       "      <th>Oregon, USA</th>\n",
       "      <td>3</td>\n",
       "    </tr>\n",
       "    <tr>\n",
       "      <th>Sacramento, CA</th>\n",
       "      <td>3</td>\n",
       "    </tr>\n",
       "    <tr>\n",
       "      <th>Las Vegas</th>\n",
       "      <td>3</td>\n",
       "    </tr>\n",
       "    <tr>\n",
       "      <th>Rio de Janeiro</th>\n",
       "      <td>3</td>\n",
       "    </tr>\n",
       "    <tr>\n",
       "      <th>Colorado</th>\n",
       "      <td>3</td>\n",
       "    </tr>\n",
       "    <tr>\n",
       "      <th>NY</th>\n",
       "      <td>3</td>\n",
       "    </tr>\n",
       "    <tr>\n",
       "      <th>Des Moines, IA</th>\n",
       "      <td>3</td>\n",
       "    </tr>\n",
       "    <tr>\n",
       "      <th>Denver, Colorado</th>\n",
       "      <td>3</td>\n",
       "    </tr>\n",
       "    <tr>\n",
       "      <th>Iraq|Afghanistan| RSA |Baghdad</th>\n",
       "      <td>3</td>\n",
       "    </tr>\n",
       "    <tr>\n",
       "      <th>london</th>\n",
       "      <td>3</td>\n",
       "    </tr>\n",
       "    <tr>\n",
       "      <th>Global</th>\n",
       "      <td>3</td>\n",
       "    </tr>\n",
       "    <tr>\n",
       "      <th>china</th>\n",
       "      <td>3</td>\n",
       "    </tr>\n",
       "    <tr>\n",
       "      <th>Maryland</th>\n",
       "      <td>3</td>\n",
       "    </tr>\n",
       "    <tr>\n",
       "      <th>Manchester, England</th>\n",
       "      <td>3</td>\n",
       "    </tr>\n",
       "    <tr>\n",
       "      <th>Nowhere. Everywhere.</th>\n",
       "      <td>3</td>\n",
       "    </tr>\n",
       "    <tr>\n",
       "      <th>Southern California</th>\n",
       "      <td>3</td>\n",
       "    </tr>\n",
       "  </tbody>\n",
       "</table>\n",
       "</div>"
      ],
      "text/plain": [
       "                                freq\n",
       "Brazil                             3\n",
       "#FLIGHTCITY UK                     3\n",
       "Massachusetts                      3\n",
       "Denver, CO                         3\n",
       "Oregon, USA                        3\n",
       "Sacramento, CA                     3\n",
       "Las Vegas                          3\n",
       "Rio de Janeiro                     3\n",
       "Colorado                           3\n",
       "NY                                 3\n",
       "Des Moines, IA                     3\n",
       "Denver, Colorado                   3\n",
       "Iraq|Afghanistan| RSA |Baghdad     3\n",
       "london                             3\n",
       "Global                             3\n",
       "china                              3\n",
       "Maryland                           3\n",
       "Manchester, England                3\n",
       "Nowhere. Everywhere.               3\n",
       "Southern California                3"
      ]
     },
     "execution_count": 80,
     "metadata": {},
     "output_type": "execute_result"
    }
   ],
   "source": [
    "loc_df_0.iloc[100:120]"
   ]
  },
  {
   "cell_type": "code",
   "execution_count": 81,
   "id": "e7daf547",
   "metadata": {
    "scrolled": false
   },
   "outputs": [
    {
     "data": {
      "image/png": "[encoded data removed]",
      "text/plain": [
       "<Figure size 432x288 with 1 Axes>"
      ]
     },
     "metadata": {
      "needs_background": "light"
     },
     "output_type": "display_data"
    }
   ],
   "source": [
    "plt.figure()\n",
    "plt.bar(keys_0,val_0)\n",
    "plt.xticks(rotation=90)\n",
    "plt.show()"
   ]
  },
  {
   "cell_type": "code",
   "execution_count": 82,
   "id": "c1673051",
   "metadata": {
    "scrolled": false
   },
   "outputs": [
    {
     "data": {
      "image/png": "[encoded data removed]",
      "text/plain": [
       "<Figure size 432x288 with 1 Axes>"
      ]
     },
     "metadata": {
      "needs_background": "light"
     },
     "output_type": "display_data"
    }
   ],
   "source": [
    "plt.figure()\n",
    "plt.bar(keys_1,val_1)\n",
    "plt.xticks(rotation=90)\n",
    "plt.show()"
   ]
  },
  {
   "cell_type": "markdown",
   "id": "a46abe93",
   "metadata": {},
   "source": [
    "### We found that there is multiple location are in the same location like NYC ,California , USA , united states and Chicago ,   so we will try to make location rely on countries"
   ]
  },
  {
   "cell_type": "markdown",
   "id": "7bf42a66",
   "metadata": {},
   "source": [
    "## ----------------------------------------------------------------------------------------------------------------------------------"
   ]
  },
  {
   "cell_type": "markdown",
   "id": "738fd8a2",
   "metadata": {},
   "source": [
    "## 6- Get the top 15 keywords of the data"
   ]
  },
  {
   "cell_type": "code",
   "execution_count": 83,
   "id": "f91b60a9",
   "metadata": {
    "scrolled": true
   },
   "outputs": [],
   "source": [
    "freq_key_0=dict()\n",
    "for kw in df_0['keyword'].unique():\n",
    "    freq_key_0[kw]=0\n",
    "for kw in df_0['keyword']:\n",
    "    freq_key_0[kw]+=1\n",
    "   "
   ]
  },
  {
   "cell_type": "code",
   "execution_count": 84,
   "id": "3b38a261",
   "metadata": {},
   "outputs": [],
   "source": [
    "freq_key_1=dict()\n",
    "for kw in df_1['keyword'].dropna().unique():\n",
    "    freq_key_1[kw]=0\n",
    "for kw in df_1['keyword'].dropna():\n",
    "    freq_key_1[kw]+=1"
   ]
  },
  {
   "cell_type": "code",
   "execution_count": 85,
   "id": "7899f045",
   "metadata": {},
   "outputs": [],
   "source": [
    "kw_df_0=pd.DataFrame(freq_key_0.values(),index=freq_key_0.keys(),columns=[\"freq\"]).sort_values('freq',ascending=False)\n",
    "kw_df_1=pd.DataFrame(freq_key_1.values(),index=freq_key_1.keys(),columns=[\"freq\"]).sort_values('freq',ascending=False)"
   ]
  },
  {
   "cell_type": "code",
   "execution_count": 86,
   "id": "559bc9cd",
   "metadata": {},
   "outputs": [
    {
     "data": {
      "text/html": [
       "<div>\n",
       "<style scoped>\n",
       "    .dataframe tbody tr th:only-of-type {\n",
       "        vertical-align: middle;\n",
       "    }\n",
       "\n",
       "    .dataframe tbody tr th {\n",
       "        vertical-align: top;\n",
       "    }\n",
       "\n",
       "    .dataframe thead th {\n",
       "        text-align: right;\n",
       "    }\n",
       "</style>\n",
       "<table border=\"1\" class=\"dataframe\">\n",
       "  <thead>\n",
       "    <tr style=\"text-align: right;\">\n",
       "      <th></th>\n",
       "      <th>freq</th>\n",
       "    </tr>\n",
       "  </thead>\n",
       "  <tbody>\n",
       "    <tr>\n",
       "      <th>body%20bags</th>\n",
       "      <td>40</td>\n",
       "    </tr>\n",
       "    <tr>\n",
       "      <th>harm</th>\n",
       "      <td>37</td>\n",
       "    </tr>\n",
       "    <tr>\n",
       "      <th>armageddon</th>\n",
       "      <td>37</td>\n",
       "    </tr>\n",
       "    <tr>\n",
       "      <th>deluge</th>\n",
       "      <td>36</td>\n",
       "    </tr>\n",
       "    <tr>\n",
       "      <th>ruin</th>\n",
       "      <td>36</td>\n",
       "    </tr>\n",
       "    <tr>\n",
       "      <th>wrecked</th>\n",
       "      <td>36</td>\n",
       "    </tr>\n",
       "    <tr>\n",
       "      <th>twister</th>\n",
       "      <td>35</td>\n",
       "    </tr>\n",
       "    <tr>\n",
       "      <th>explode</th>\n",
       "      <td>35</td>\n",
       "    </tr>\n",
       "    <tr>\n",
       "      <th>fear</th>\n",
       "      <td>35</td>\n",
       "    </tr>\n",
       "    <tr>\n",
       "      <th>siren</th>\n",
       "      <td>35</td>\n",
       "    </tr>\n",
       "    <tr>\n",
       "      <th>screaming</th>\n",
       "      <td>34</td>\n",
       "    </tr>\n",
       "    <tr>\n",
       "      <th>aftershock</th>\n",
       "      <td>34</td>\n",
       "    </tr>\n",
       "    <tr>\n",
       "      <th>panic</th>\n",
       "      <td>34</td>\n",
       "    </tr>\n",
       "    <tr>\n",
       "      <th>blizzard</th>\n",
       "      <td>33</td>\n",
       "    </tr>\n",
       "    <tr>\n",
       "      <th>blazing</th>\n",
       "      <td>33</td>\n",
       "    </tr>\n",
       "    <tr>\n",
       "      <th>blaze</th>\n",
       "      <td>33</td>\n",
       "    </tr>\n",
       "  </tbody>\n",
       "</table>\n",
       "</div>"
      ],
      "text/plain": [
       "             freq\n",
       "body%20bags    40\n",
       "harm           37\n",
       "armageddon     37\n",
       "deluge         36\n",
       "ruin           36\n",
       "wrecked        36\n",
       "twister        35\n",
       "explode        35\n",
       "fear           35\n",
       "siren          35\n",
       "screaming      34\n",
       "aftershock     34\n",
       "panic          34\n",
       "blizzard       33\n",
       "blazing        33\n",
       "blaze          33"
      ]
     },
     "execution_count": 86,
     "metadata": {},
     "output_type": "execute_result"
    }
   ],
   "source": [
    "kw_df_0.iloc[0:16]"
   ]
  },
  {
   "cell_type": "code",
   "execution_count": 87,
   "id": "15ca7ab5",
   "metadata": {},
   "outputs": [
    {
     "data": {
      "text/html": [
       "<div>\n",
       "<style scoped>\n",
       "    .dataframe tbody tr th:only-of-type {\n",
       "        vertical-align: middle;\n",
       "    }\n",
       "\n",
       "    .dataframe tbody tr th {\n",
       "        vertical-align: top;\n",
       "    }\n",
       "\n",
       "    .dataframe thead th {\n",
       "        text-align: right;\n",
       "    }\n",
       "</style>\n",
       "<table border=\"1\" class=\"dataframe\">\n",
       "  <thead>\n",
       "    <tr style=\"text-align: right;\">\n",
       "      <th></th>\n",
       "      <th>freq</th>\n",
       "    </tr>\n",
       "  </thead>\n",
       "  <tbody>\n",
       "    <tr>\n",
       "      <th>unknown</th>\n",
       "      <td>42</td>\n",
       "    </tr>\n",
       "    <tr>\n",
       "      <th>wreckage</th>\n",
       "      <td>39</td>\n",
       "    </tr>\n",
       "    <tr>\n",
       "      <th>outbreak</th>\n",
       "      <td>39</td>\n",
       "    </tr>\n",
       "    <tr>\n",
       "      <th>derailment</th>\n",
       "      <td>39</td>\n",
       "    </tr>\n",
       "    <tr>\n",
       "      <th>typhoon</th>\n",
       "      <td>37</td>\n",
       "    </tr>\n",
       "    <tr>\n",
       "      <th>debris</th>\n",
       "      <td>37</td>\n",
       "    </tr>\n",
       "    <tr>\n",
       "      <th>oil%20spill</th>\n",
       "      <td>37</td>\n",
       "    </tr>\n",
       "    <tr>\n",
       "      <th>rescuers</th>\n",
       "      <td>32</td>\n",
       "    </tr>\n",
       "    <tr>\n",
       "      <th>suicide%20bombing</th>\n",
       "      <td>32</td>\n",
       "    </tr>\n",
       "    <tr>\n",
       "      <th>suicide%20bomb</th>\n",
       "      <td>32</td>\n",
       "    </tr>\n",
       "    <tr>\n",
       "      <th>evacuated</th>\n",
       "      <td>32</td>\n",
       "    </tr>\n",
       "    <tr>\n",
       "      <th>razed</th>\n",
       "      <td>31</td>\n",
       "    </tr>\n",
       "    <tr>\n",
       "      <th>nuclear%20disaster</th>\n",
       "      <td>31</td>\n",
       "    </tr>\n",
       "    <tr>\n",
       "      <th>earthquake</th>\n",
       "      <td>30</td>\n",
       "    </tr>\n",
       "    <tr>\n",
       "      <th>suicide%20bomber</th>\n",
       "      <td>30</td>\n",
       "    </tr>\n",
       "    <tr>\n",
       "      <th>airplane%20accident</th>\n",
       "      <td>30</td>\n",
       "    </tr>\n",
       "  </tbody>\n",
       "</table>\n",
       "</div>"
      ],
      "text/plain": [
       "                     freq\n",
       "unknown                42\n",
       "wreckage               39\n",
       "outbreak               39\n",
       "derailment             39\n",
       "typhoon                37\n",
       "debris                 37\n",
       "oil%20spill            37\n",
       "rescuers               32\n",
       "suicide%20bombing      32\n",
       "suicide%20bomb         32\n",
       "evacuated              32\n",
       "razed                  31\n",
       "nuclear%20disaster     31\n",
       "earthquake             30\n",
       "suicide%20bomber       30\n",
       "airplane%20accident    30"
      ]
     },
     "execution_count": 87,
     "metadata": {},
     "output_type": "execute_result"
    }
   ],
   "source": [
    "kw_df_1.iloc[0:16]"
   ]
  },
  {
   "cell_type": "code",
   "execution_count": 88,
   "id": "682e0714",
   "metadata": {},
   "outputs": [
    {
     "name": "stdout",
     "output_type": "stream",
     "text": [
      "Index(['harm', 'armageddon', 'deluge', 'ruin', 'wrecked', 'twister', 'explode',\n",
      "       'fear', 'siren', 'screaming', 'aftershock', 'panic', 'blizzard',\n",
      "       'blazing', 'blaze'],\n",
      "      dtype='object')\n",
      "[37 37 36 36 36 35 35 35 35 34 34 34 33 33 33]\n",
      "Index(['wreckage', 'outbreak', 'derailment', 'typhoon', 'debris',\n",
      "       'oil%20spill', 'rescuers', 'suicide%20bombing', 'suicide%20bomb',\n",
      "       'evacuated', 'razed', 'nuclear%20disaster', 'earthquake',\n",
      "       'suicide%20bomber', 'airplane%20accident'],\n",
      "      dtype='object')\n",
      "[39 39 39 37 37 37 32 32 32 32 31 31 30 30 30]\n"
     ]
    }
   ],
   "source": [
    "keys_0=kw_df_0.index[1:16]\n",
    "val_0=kw_df_0.iloc[1:16]['freq'].values\n",
    "print(keys_0)\n",
    "print(val_0)\n",
    "keys_1=kw_df_1.index[1:16]\n",
    "val_1=kw_df_1.iloc[1:16]['freq'].values\n",
    "print(keys_1)\n",
    "print(val_1)"
   ]
  },
  {
   "cell_type": "code",
   "execution_count": 89,
   "id": "30f2e8d2",
   "metadata": {},
   "outputs": [
    {
     "data": {
      "image/png": "[encoded data removed]",
      "text/plain": [
       "<Figure size 432x288 with 1 Axes>"
      ]
     },
     "metadata": {
      "needs_background": "light"
     },
     "output_type": "display_data"
    }
   ],
   "source": [
    "plt.figure()\n",
    "plt.bar(keys_0,val_0)\n",
    "plt.xticks(rotation=90)\n",
    "plt.show()"
   ]
  },
  {
   "cell_type": "code",
   "execution_count": 90,
   "id": "8c8030de",
   "metadata": {},
   "outputs": [
    {
     "data": {
      "image/png": "[encoded data removed]",
      "text/plain": [
       "<Figure size 432x288 with 1 Axes>"
      ]
     },
     "metadata": {
      "needs_background": "light"
     },
     "output_type": "display_data"
    }
   ],
   "source": [
    "plt.figure()\n",
    "plt.bar(keys_1,val_1)\n",
    "plt.xticks(rotation=90)\n",
    "plt.show()"
   ]
  },
  {
   "cell_type": "markdown",
   "id": "4c1508ee",
   "metadata": {},
   "source": [
    "## ----------------------------------------------------------------------------------------------------------------------------------"
   ]
  },
  {
   "cell_type": "markdown",
   "id": "299b9a77",
   "metadata": {},
   "source": [
    "## 7- What are the most common words?"
   ]
  },
  {
   "cell_type": "code",
   "execution_count": 91,
   "id": "6e73d395",
   "metadata": {
    "scrolled": false
   },
   "outputs": [],
   "source": [
    "stop_words=stopwords.words('english')"
   ]
  },
  {
   "cell_type": "code",
   "execution_count": 92,
   "id": "acf440d1",
   "metadata": {},
   "outputs": [
    {
     "data": {
      "text/plain": [
       "['i',\n",
       " 'me',\n",
       " 'my',\n",
       " 'myself',\n",
       " 'we',\n",
       " 'our',\n",
       " 'ours',\n",
       " 'ourselves',\n",
       " 'you',\n",
       " \"you're\",\n",
       " \"you've\",\n",
       " \"you'll\",\n",
       " \"you'd\",\n",
       " 'your',\n",
       " 'yours',\n",
       " 'yourself',\n",
       " 'yourselves',\n",
       " 'he',\n",
       " 'him',\n",
       " 'his',\n",
       " 'himself',\n",
       " 'she',\n",
       " \"she's\",\n",
       " 'her',\n",
       " 'hers',\n",
       " 'herself',\n",
       " 'it',\n",
       " \"it's\",\n",
       " 'its',\n",
       " 'itself',\n",
       " 'they',\n",
       " 'them',\n",
       " 'their',\n",
       " 'theirs',\n",
       " 'themselves',\n",
       " 'what',\n",
       " 'which',\n",
       " 'who',\n",
       " 'whom',\n",
       " 'this',\n",
       " 'that',\n",
       " \"that'll\",\n",
       " 'these',\n",
       " 'those',\n",
       " 'am',\n",
       " 'is',\n",
       " 'are',\n",
       " 'was',\n",
       " 'were',\n",
       " 'be',\n",
       " 'been',\n",
       " 'being',\n",
       " 'have',\n",
       " 'has',\n",
       " 'had',\n",
       " 'having',\n",
       " 'do',\n",
       " 'does',\n",
       " 'did',\n",
       " 'doing',\n",
       " 'a',\n",
       " 'an',\n",
       " 'the',\n",
       " 'and',\n",
       " 'but',\n",
       " 'if',\n",
       " 'or',\n",
       " 'because',\n",
       " 'as',\n",
       " 'until',\n",
       " 'while',\n",
       " 'of',\n",
       " 'at',\n",
       " 'by',\n",
       " 'for',\n",
       " 'with',\n",
       " 'about',\n",
       " 'against',\n",
       " 'between',\n",
       " 'into',\n",
       " 'through',\n",
       " 'during',\n",
       " 'before',\n",
       " 'after',\n",
       " 'above',\n",
       " 'below',\n",
       " 'to',\n",
       " 'from',\n",
       " 'up',\n",
       " 'down',\n",
       " 'in',\n",
       " 'out',\n",
       " 'on',\n",
       " 'off',\n",
       " 'over',\n",
       " 'under',\n",
       " 'again',\n",
       " 'further',\n",
       " 'then',\n",
       " 'once',\n",
       " 'here',\n",
       " 'there',\n",
       " 'when',\n",
       " 'where',\n",
       " 'why',\n",
       " 'how',\n",
       " 'all',\n",
       " 'any',\n",
       " 'both',\n",
       " 'each',\n",
       " 'few',\n",
       " 'more',\n",
       " 'most',\n",
       " 'other',\n",
       " 'some',\n",
       " 'such',\n",
       " 'no',\n",
       " 'nor',\n",
       " 'not',\n",
       " 'only',\n",
       " 'own',\n",
       " 'same',\n",
       " 'so',\n",
       " 'than',\n",
       " 'too',\n",
       " 'very',\n",
       " 's',\n",
       " 't',\n",
       " 'can',\n",
       " 'will',\n",
       " 'just',\n",
       " 'don',\n",
       " \"don't\",\n",
       " 'should',\n",
       " \"should've\",\n",
       " 'now',\n",
       " 'd',\n",
       " 'll',\n",
       " 'm',\n",
       " 'o',\n",
       " 're',\n",
       " 've',\n",
       " 'y',\n",
       " 'ain',\n",
       " 'aren',\n",
       " \"aren't\",\n",
       " 'couldn',\n",
       " \"couldn't\",\n",
       " 'didn',\n",
       " \"didn't\",\n",
       " 'doesn',\n",
       " \"doesn't\",\n",
       " 'hadn',\n",
       " \"hadn't\",\n",
       " 'hasn',\n",
       " \"hasn't\",\n",
       " 'haven',\n",
       " \"haven't\",\n",
       " 'isn',\n",
       " \"isn't\",\n",
       " 'ma',\n",
       " 'mightn',\n",
       " \"mightn't\",\n",
       " 'mustn',\n",
       " \"mustn't\",\n",
       " 'needn',\n",
       " \"needn't\",\n",
       " 'shan',\n",
       " \"shan't\",\n",
       " 'shouldn',\n",
       " \"shouldn't\",\n",
       " 'wasn',\n",
       " \"wasn't\",\n",
       " 'weren',\n",
       " \"weren't\",\n",
       " 'won',\n",
       " \"won't\",\n",
       " 'wouldn',\n",
       " \"wouldn't\"]"
      ]
     },
     "execution_count": 92,
     "metadata": {},
     "output_type": "execute_result"
    }
   ],
   "source": [
    "stop_words"
   ]
  },
  {
   "cell_type": "code",
   "execution_count": 93,
   "id": "872a6666",
   "metadata": {},
   "outputs": [],
   "source": [
    "freq_tweets_words_0={}\n",
    "for tweet in df_0['text']:\n",
    "    for word in tweet.split():\n",
    "        if(word.lower() not in stop_words):\n",
    "            freq_tweets_words_0[word.lower()]=0\n",
    "for tweet in df_0['text']:\n",
    "    for word in tweet.split():\n",
    "         if(word.lower() not in stop_words):\n",
    "            freq_tweets_words_0[word.lower()]+=1      \n",
    "        "
   ]
  },
  {
   "cell_type": "code",
   "execution_count": 94,
   "id": "9380f71f",
   "metadata": {},
   "outputs": [],
   "source": [
    "freq_tweets_words_1={}\n",
    "for tweet in df_1['text']:\n",
    "    for word in tweet.split():\n",
    "        if(word.lower() not in stop_words):\n",
    "            freq_tweets_words_1[word.lower()]=0  \n",
    "for tweet in df_1['text']:\n",
    "    for word in tweet.split():\n",
    "        if(word.lower() not in stop_words):\n",
    "            freq_tweets_words_1[word.lower()]+=1  "
   ]
  },
  {
   "cell_type": "code",
   "execution_count": 95,
   "id": "0edfe473",
   "metadata": {},
   "outputs": [],
   "source": [
    "words_df_0=pd.DataFrame(freq_tweets_words_0.values(),index=freq_tweets_words_0.keys(),columns=[\"freq\"]).sort_values('freq',ascending=False)"
   ]
  },
  {
   "cell_type": "code",
   "execution_count": 96,
   "id": "bb923944",
   "metadata": {},
   "outputs": [],
   "source": [
    "words_df_1=pd.DataFrame(freq_tweets_words_1.values(),index=freq_tweets_words_1.keys(),columns=[\"freq\"]).sort_values('freq',ascending=False)"
   ]
  },
  {
   "cell_type": "code",
   "execution_count": 97,
   "id": "57202010",
   "metadata": {},
   "outputs": [
    {
     "data": {
      "text/html": [
       "<div>\n",
       "<style scoped>\n",
       "    .dataframe tbody tr th:only-of-type {\n",
       "        vertical-align: middle;\n",
       "    }\n",
       "\n",
       "    .dataframe tbody tr th {\n",
       "        vertical-align: top;\n",
       "    }\n",
       "\n",
       "    .dataframe thead th {\n",
       "        text-align: right;\n",
       "    }\n",
       "</style>\n",
       "<table border=\"1\" class=\"dataframe\">\n",
       "  <thead>\n",
       "    <tr style=\"text-align: right;\">\n",
       "      <th></th>\n",
       "      <th>freq</th>\n",
       "    </tr>\n",
       "  </thead>\n",
       "  <tbody>\n",
       "    <tr>\n",
       "      <th>-</th>\n",
       "      <td>374</td>\n",
       "    </tr>\n",
       "    <tr>\n",
       "      <th>like</th>\n",
       "      <td>250</td>\n",
       "    </tr>\n",
       "    <tr>\n",
       "      <th>i'm</th>\n",
       "      <td>195</td>\n",
       "    </tr>\n",
       "    <tr>\n",
       "      <th>&amp;amp;</th>\n",
       "      <td>190</td>\n",
       "    </tr>\n",
       "    <tr>\n",
       "      <th>??</th>\n",
       "      <td>183</td>\n",
       "    </tr>\n",
       "    <tr>\n",
       "      <th>new</th>\n",
       "      <td>163</td>\n",
       "    </tr>\n",
       "    <tr>\n",
       "      <th>get</th>\n",
       "      <td>161</td>\n",
       "    </tr>\n",
       "    <tr>\n",
       "      <th>one</th>\n",
       "      <td>116</td>\n",
       "    </tr>\n",
       "    <tr>\n",
       "      <th>body</th>\n",
       "      <td>106</td>\n",
       "    </tr>\n",
       "    <tr>\n",
       "      <th>via</th>\n",
       "      <td>97</td>\n",
       "    </tr>\n",
       "    <tr>\n",
       "      <th>would</th>\n",
       "      <td>94</td>\n",
       "    </tr>\n",
       "    <tr>\n",
       "      <th>|</th>\n",
       "      <td>91</td>\n",
       "    </tr>\n",
       "    <tr>\n",
       "      <th>love</th>\n",
       "      <td>85</td>\n",
       "    </tr>\n",
       "    <tr>\n",
       "      <th>got</th>\n",
       "      <td>82</td>\n",
       "    </tr>\n",
       "    <tr>\n",
       "      <th>full</th>\n",
       "      <td>81</td>\n",
       "    </tr>\n",
       "  </tbody>\n",
       "</table>\n",
       "</div>"
      ],
      "text/plain": [
       "       freq\n",
       "-       374\n",
       "like    250\n",
       "i'm     195\n",
       "&amp;   190\n",
       "??      183\n",
       "new     163\n",
       "get     161\n",
       "one     116\n",
       "body    106\n",
       "via      97\n",
       "would    94\n",
       "|        91\n",
       "love     85\n",
       "got      82\n",
       "full     81"
      ]
     },
     "execution_count": 97,
     "metadata": {},
     "output_type": "execute_result"
    }
   ],
   "source": [
    "words_df_0.head(15)"
   ]
  },
  {
   "cell_type": "code",
   "execution_count": 98,
   "id": "e6b6092f",
   "metadata": {
    "scrolled": false
   },
   "outputs": [
    {
     "data": {
      "text/html": [
       "<div>\n",
       "<style scoped>\n",
       "    .dataframe tbody tr th:only-of-type {\n",
       "        vertical-align: middle;\n",
       "    }\n",
       "\n",
       "    .dataframe tbody tr th {\n",
       "        vertical-align: top;\n",
       "    }\n",
       "\n",
       "    .dataframe thead th {\n",
       "        text-align: right;\n",
       "    }\n",
       "</style>\n",
       "<table border=\"1\" class=\"dataframe\">\n",
       "  <thead>\n",
       "    <tr style=\"text-align: right;\">\n",
       "      <th></th>\n",
       "      <th>freq</th>\n",
       "    </tr>\n",
       "  </thead>\n",
       "  <tbody>\n",
       "    <tr>\n",
       "      <th>-</th>\n",
       "      <td>389</td>\n",
       "    </tr>\n",
       "    <tr>\n",
       "      <th>fire</th>\n",
       "      <td>151</td>\n",
       "    </tr>\n",
       "    <tr>\n",
       "      <th>via</th>\n",
       "      <td>117</td>\n",
       "    </tr>\n",
       "    <tr>\n",
       "      <th>...</th>\n",
       "      <td>106</td>\n",
       "    </tr>\n",
       "    <tr>\n",
       "      <th>&amp;amp;</th>\n",
       "      <td>105</td>\n",
       "    </tr>\n",
       "    <tr>\n",
       "      <th>suicide</th>\n",
       "      <td>103</td>\n",
       "    </tr>\n",
       "    <tr>\n",
       "      <th>disaster</th>\n",
       "      <td>97</td>\n",
       "    </tr>\n",
       "    <tr>\n",
       "      <th>police</th>\n",
       "      <td>94</td>\n",
       "    </tr>\n",
       "    <tr>\n",
       "      <th>people</th>\n",
       "      <td>93</td>\n",
       "    </tr>\n",
       "    <tr>\n",
       "      <th>killed</th>\n",
       "      <td>92</td>\n",
       "    </tr>\n",
       "    <tr>\n",
       "      <th>like</th>\n",
       "      <td>91</td>\n",
       "    </tr>\n",
       "    <tr>\n",
       "      <th>california</th>\n",
       "      <td>88</td>\n",
       "    </tr>\n",
       "    <tr>\n",
       "      <th>families</th>\n",
       "      <td>81</td>\n",
       "    </tr>\n",
       "    <tr>\n",
       "      <th>storm</th>\n",
       "      <td>71</td>\n",
       "    </tr>\n",
       "    <tr>\n",
       "      <th>two</th>\n",
       "      <td>71</td>\n",
       "    </tr>\n",
       "  </tbody>\n",
       "</table>\n",
       "</div>"
      ],
      "text/plain": [
       "            freq\n",
       "-            389\n",
       "fire         151\n",
       "via          117\n",
       "...          106\n",
       "&amp;        105\n",
       "suicide      103\n",
       "disaster      97\n",
       "police        94\n",
       "people        93\n",
       "killed        92\n",
       "like          91\n",
       "california    88\n",
       "families      81\n",
       "storm         71\n",
       "two           71"
      ]
     },
     "execution_count": 98,
     "metadata": {},
     "output_type": "execute_result"
    }
   ],
   "source": [
    "words_df_1.head(15)"
   ]
  },
  {
   "cell_type": "code",
   "execution_count": 99,
   "id": "841ae59d",
   "metadata": {},
   "outputs": [
    {
     "name": "stdout",
     "output_type": "stream",
     "text": [
      "Index(['-', 'like', 'i'm', '&amp;', '??', 'new', 'get', 'one', 'body', 'via',\n",
      "       'would', '|', 'love', 'got', 'full', 'people'],\n",
      "      dtype='object')\n",
      "[374 250 195 190 183 163 161 116 106  97  94  91  85  82  81  81]\n",
      "Index(['-', 'fire', 'via', '...', '&amp;', 'suicide', 'disaster', 'police',\n",
      "       'people', 'killed',\n",
      "       ...\n",
      "       'here.', 'newly', 'maple', 'drowning.', 'saves', 'drowning:',\n",
      "       'nine-year-old', 'maine', 'dove', 'http://t.co/ymy4rskq3d'],\n",
      "      dtype='object', length=14161)\n",
      "[389 151 117 ...   1   1   1]\n"
     ]
    }
   ],
   "source": [
    "keys_words_0=words_df_0.index\n",
    "val_words_0=words_df_0['freq'].values\n",
    "print(keys_words_0[0:16])\n",
    "print(val_words_0[0:16])\n",
    "keys_words_1=words_df_1.index\n",
    "val_words_1=words_df_1['freq'].values\n",
    "print(keys_words_1)\n",
    "print(val_words_1)"
   ]
  },
  {
   "cell_type": "code",
   "execution_count": 100,
   "id": "5500643b",
   "metadata": {
    "scrolled": true
   },
   "outputs": [
    {
     "data": {
      "image/png": "[encoded data removed]",
      "text/plain": [
       "<Figure size 1440x1440 with 1 Axes>"
      ]
     },
     "metadata": {
      "needs_background": "light"
     },
     "output_type": "display_data"
    }
   ],
   "source": [
    "plt.figure(figsize=(20,20))\n",
    "plt.bar(keys_words_0[0:30],val_words_0[0:30])\n",
    "plt.xticks(rotation=90,fontsize=22)\n",
    "plt.show()"
   ]
  },
  {
   "cell_type": "code",
   "execution_count": 101,
   "id": "de611975",
   "metadata": {},
   "outputs": [
    {
     "data": {
      "image/png": "[encoded data removed]",
      "text/plain": [
       "<Figure size 1440x1440 with 1 Axes>"
      ]
     },
     "metadata": {
      "needs_background": "light"
     },
     "output_type": "display_data"
    }
   ],
   "source": [
    "plt.figure(figsize=(20,20))\n",
    "plt.bar(keys_words_1[0:30],val_words_1[0:30])\n",
    "plt.xticks(rotation=90,fontsize=22)\n",
    "plt.show()"
   ]
  },
  {
   "cell_type": "markdown",
   "id": "d794826a",
   "metadata": {},
   "source": [
    "## ----------------------------------------------------------------------------------------------------------------------------------"
   ]
  },
  {
   "cell_type": "markdown",
   "id": "92ae940f",
   "metadata": {},
   "source": [
    "## 8- What are the most common stop words?"
   ]
  },
  {
   "cell_type": "code",
   "execution_count": 102,
   "id": "9f4d8390",
   "metadata": {},
   "outputs": [],
   "source": [
    "stop_words=stopwords.words('english')"
   ]
  },
  {
   "cell_type": "code",
   "execution_count": 103,
   "id": "74b501ab",
   "metadata": {},
   "outputs": [],
   "source": [
    "freq_tweets_words_0={}\n",
    "for tweet in df_0['text']:\n",
    "    for word in tweet.split():\n",
    "        if(word.lower() in stop_words):\n",
    "            freq_tweets_words_0[word.lower()]=0\n",
    "for tweet in df_0['text']:\n",
    "    for word in tweet.split():\n",
    "        if(word.lower() in stop_words):\n",
    "            freq_tweets_words_0[word.lower()]+=1  "
   ]
  },
  {
   "cell_type": "code",
   "execution_count": 104,
   "id": "bb2d8a5b",
   "metadata": {},
   "outputs": [],
   "source": [
    "freq_tweets_words_1={}\n",
    "for tweet in df_1['text']:\n",
    "    for word in tweet.split():\n",
    "        if(word.lower() in stop_words):\n",
    "            freq_tweets_words_1[word.lower()]=1\n",
    "for tweet in df_1['text']:\n",
    "    for word in tweet.split():\n",
    "        if(word.lower() in stop_words):\n",
    "            freq_tweets_words_1[word.lower()]+=1  "
   ]
  },
  {
   "cell_type": "code",
   "execution_count": 105,
   "id": "c68195fe",
   "metadata": {},
   "outputs": [],
   "source": [
    "words_df_0=pd.DataFrame(freq_tweets_words_0.values(),index=freq_tweets_words_0.keys(),columns=[\"freq\"]).sort_values('freq',ascending=False)"
   ]
  },
  {
   "cell_type": "code",
   "execution_count": 106,
   "id": "14e33684",
   "metadata": {},
   "outputs": [],
   "source": [
    "words_df_1=pd.DataFrame(freq_tweets_words_1.values(),index=freq_tweets_words_1.keys(),columns=[\"freq\"]).sort_values('freq',ascending=False)"
   ]
  },
  {
   "cell_type": "code",
   "execution_count": 107,
   "id": "b43c4c82",
   "metadata": {},
   "outputs": [
    {
     "data": {
      "text/html": [
       "<div>\n",
       "<style scoped>\n",
       "    .dataframe tbody tr th:only-of-type {\n",
       "        vertical-align: middle;\n",
       "    }\n",
       "\n",
       "    .dataframe tbody tr th {\n",
       "        vertical-align: top;\n",
       "    }\n",
       "\n",
       "    .dataframe thead th {\n",
       "        text-align: right;\n",
       "    }\n",
       "</style>\n",
       "<table border=\"1\" class=\"dataframe\">\n",
       "  <thead>\n",
       "    <tr style=\"text-align: right;\">\n",
       "      <th></th>\n",
       "      <th>freq</th>\n",
       "    </tr>\n",
       "  </thead>\n",
       "  <tbody>\n",
       "    <tr>\n",
       "      <th>the</th>\n",
       "      <td>1877</td>\n",
       "    </tr>\n",
       "    <tr>\n",
       "      <th>a</th>\n",
       "      <td>1238</td>\n",
       "    </tr>\n",
       "    <tr>\n",
       "      <th>to</th>\n",
       "      <td>1181</td>\n",
       "    </tr>\n",
       "    <tr>\n",
       "      <th>i</th>\n",
       "      <td>1052</td>\n",
       "    </tr>\n",
       "    <tr>\n",
       "      <th>and</th>\n",
       "      <td>911</td>\n",
       "    </tr>\n",
       "    <tr>\n",
       "      <th>of</th>\n",
       "      <td>895</td>\n",
       "    </tr>\n",
       "    <tr>\n",
       "      <th>in</th>\n",
       "      <td>805</td>\n",
       "    </tr>\n",
       "    <tr>\n",
       "      <th>you</th>\n",
       "      <td>625</td>\n",
       "    </tr>\n",
       "    <tr>\n",
       "      <th>is</th>\n",
       "      <td>586</td>\n",
       "    </tr>\n",
       "    <tr>\n",
       "      <th>my</th>\n",
       "      <td>541</td>\n",
       "    </tr>\n",
       "    <tr>\n",
       "      <th>for</th>\n",
       "      <td>486</td>\n",
       "    </tr>\n",
       "    <tr>\n",
       "      <th>on</th>\n",
       "      <td>424</td>\n",
       "    </tr>\n",
       "    <tr>\n",
       "      <th>with</th>\n",
       "      <td>374</td>\n",
       "    </tr>\n",
       "    <tr>\n",
       "      <th>that</th>\n",
       "      <td>357</td>\n",
       "    </tr>\n",
       "    <tr>\n",
       "      <th>it</th>\n",
       "      <td>341</td>\n",
       "    </tr>\n",
       "  </tbody>\n",
       "</table>\n",
       "</div>"
      ],
      "text/plain": [
       "      freq\n",
       "the   1877\n",
       "a     1238\n",
       "to    1181\n",
       "i     1052\n",
       "and    911\n",
       "of     895\n",
       "in     805\n",
       "you    625\n",
       "is     586\n",
       "my     541\n",
       "for    486\n",
       "on     424\n",
       "with   374\n",
       "that   357\n",
       "it     341"
      ]
     },
     "execution_count": 107,
     "metadata": {},
     "output_type": "execute_result"
    }
   ],
   "source": [
    "words_df_0.head(15)"
   ]
  },
  {
   "cell_type": "code",
   "execution_count": 108,
   "id": "2f72fe23",
   "metadata": {},
   "outputs": [
    {
     "data": {
      "text/html": [
       "<div>\n",
       "<style scoped>\n",
       "    .dataframe tbody tr th:only-of-type {\n",
       "        vertical-align: middle;\n",
       "    }\n",
       "\n",
       "    .dataframe tbody tr th {\n",
       "        vertical-align: top;\n",
       "    }\n",
       "\n",
       "    .dataframe thead th {\n",
       "        text-align: right;\n",
       "    }\n",
       "</style>\n",
       "<table border=\"1\" class=\"dataframe\">\n",
       "  <thead>\n",
       "    <tr style=\"text-align: right;\">\n",
       "      <th></th>\n",
       "      <th>freq</th>\n",
       "    </tr>\n",
       "  </thead>\n",
       "  <tbody>\n",
       "    <tr>\n",
       "      <th>the</th>\n",
       "      <td>1331</td>\n",
       "    </tr>\n",
       "    <tr>\n",
       "      <th>in</th>\n",
       "      <td>1145</td>\n",
       "    </tr>\n",
       "    <tr>\n",
       "      <th>of</th>\n",
       "      <td>920</td>\n",
       "    </tr>\n",
       "    <tr>\n",
       "      <th>a</th>\n",
       "      <td>898</td>\n",
       "    </tr>\n",
       "    <tr>\n",
       "      <th>to</th>\n",
       "      <td>754</td>\n",
       "    </tr>\n",
       "    <tr>\n",
       "      <th>and</th>\n",
       "      <td>495</td>\n",
       "    </tr>\n",
       "    <tr>\n",
       "      <th>on</th>\n",
       "      <td>411</td>\n",
       "    </tr>\n",
       "    <tr>\n",
       "      <th>for</th>\n",
       "      <td>395</td>\n",
       "    </tr>\n",
       "    <tr>\n",
       "      <th>is</th>\n",
       "      <td>345</td>\n",
       "    </tr>\n",
       "    <tr>\n",
       "      <th>at</th>\n",
       "      <td>304</td>\n",
       "    </tr>\n",
       "    <tr>\n",
       "      <th>i</th>\n",
       "      <td>285</td>\n",
       "    </tr>\n",
       "    <tr>\n",
       "      <th>by</th>\n",
       "      <td>275</td>\n",
       "    </tr>\n",
       "    <tr>\n",
       "      <th>from</th>\n",
       "      <td>244</td>\n",
       "    </tr>\n",
       "    <tr>\n",
       "      <th>with</th>\n",
       "      <td>189</td>\n",
       "    </tr>\n",
       "    <tr>\n",
       "      <th>that</th>\n",
       "      <td>182</td>\n",
       "    </tr>\n",
       "  </tbody>\n",
       "</table>\n",
       "</div>"
      ],
      "text/plain": [
       "      freq\n",
       "the   1331\n",
       "in    1145\n",
       "of     920\n",
       "a      898\n",
       "to     754\n",
       "and    495\n",
       "on     411\n",
       "for    395\n",
       "is     345\n",
       "at     304\n",
       "i      285\n",
       "by     275\n",
       "from   244\n",
       "with   189\n",
       "that   182"
      ]
     },
     "execution_count": 108,
     "metadata": {},
     "output_type": "execute_result"
    }
   ],
   "source": [
    "words_df_1.head(15)"
   ]
  },
  {
   "cell_type": "code",
   "execution_count": 109,
   "id": "e11f9262",
   "metadata": {},
   "outputs": [
    {
     "name": "stdout",
     "output_type": "stream",
     "text": [
      "Index(['the', 'a', 'to', 'i', 'and', 'of', 'in', 'you', 'is', 'my', 'for',\n",
      "       'on', 'with', 'that', 'it', 'this'],\n",
      "      dtype='object')\n",
      "[1877 1238 1181 1052  911  895  805  625  586  541  486  424  374  357\n",
      "  341  286]\n",
      "Index(['the', 'in', 'of', 'a', 'to', 'and', 'on', 'for', 'is', 'at',\n",
      "       ...\n",
      "       'itself', 'you've', 'yourselves', 'shouldn't', 'couldn't', 'myself',\n",
      "       'below', 't', 'won', 'o'],\n",
      "      dtype='object', length=141)\n",
      "[1331 1145  920  898  754  495  411  395  345  304  285  275  244  189\n",
      "  182  182  178  168  167  166  164  141  131  124  122  122  115  114\n",
      "  113  105  101  100   96   94   94   91   86   85   78   78   76   76\n",
      "   75   73   69   66   63   62   61   61   59   58   58   55   53   53\n",
      "   51   47   47   47   47   46   43   43   40   40   38   38   38   37\n",
      "   34   33   32   32   29   28   26   26   24   24   23   22   22   22\n",
      "   22   21   20   20   19   19   19   17   17   16   16   16   15   15\n",
      "   15   12   12   12   11   10    9    9    8    8    8    8    7    6\n",
      "    6    6    5    5    5    4    4    4    4    3    3    3    3    3\n",
      "    3    3    2    2    2    2    2    2    2    2    2    2    2    2\n",
      "    2]\n"
     ]
    }
   ],
   "source": [
    "keys_words_0=words_df_0.index\n",
    "val_words_0=words_df_0['freq'].values\n",
    "print(keys_words_0[0:16])\n",
    "print(val_words_0[0:16])\n",
    "keys_words_1=words_df_1.index\n",
    "val_words_1=words_df_1['freq'].values\n",
    "print(keys_words_1)\n",
    "print(val_words_1)"
   ]
  },
  {
   "cell_type": "code",
   "execution_count": 110,
   "id": "78d56c2c",
   "metadata": {},
   "outputs": [
    {
     "data": {
      "image/png": "[encoded data removed]",
      "text/plain": [
       "<Figure size 1440x1440 with 1 Axes>"
      ]
     },
     "metadata": {
      "needs_background": "light"
     },
     "output_type": "display_data"
    }
   ],
   "source": [
    "plt.figure(figsize=(20,20))\n",
    "plt.bar(keys_words_0[0:30],val_words_0[0:30])\n",
    "plt.xticks(rotation=90,fontsize=22)\n",
    "plt.show()"
   ]
  },
  {
   "cell_type": "code",
   "execution_count": 111,
   "id": "c723699e",
   "metadata": {},
   "outputs": [
    {
     "data": {
      "image/png": "[encoded data removed]",
      "text/plain": [
       "<Figure size 1440x1440 with 1 Axes>"
      ]
     },
     "metadata": {
      "needs_background": "light"
     },
     "output_type": "display_data"
    }
   ],
   "source": [
    "plt.figure(figsize=(20,20))\n",
    "plt.bar(keys_words_1[0:30],val_words_1[0:30])\n",
    "plt.xticks(rotation=90,fontsize=22)\n",
    "plt.show()"
   ]
  },
  {
   "cell_type": "markdown",
   "id": "664049b0",
   "metadata": {},
   "source": [
    "## ----------------------------------------------------------------------------------------------------------------------------------"
   ]
  },
  {
   "cell_type": "markdown",
   "id": "98972999",
   "metadata": {},
   "source": [
    "## 9- Use nlp to prepare dataset [tokenization, pad sequence, etc.] "
   ]
  },
  {
   "cell_type": "markdown",
   "id": "73f3079c",
   "metadata": {},
   "source": [
    "### a-to check if there are punctuations"
   ]
  },
  {
   "cell_type": "code",
   "execution_count": 11,
   "id": "85cb67d4",
   "metadata": {},
   "outputs": [
    {
     "data": {
      "text/plain": [
       "'!\"#$%&\\'()*+,-./:;<=>?@[\\\\]^_`{|}~'"
      ]
     },
     "execution_count": 11,
     "metadata": {},
     "output_type": "execute_result"
    }
   ],
   "source": [
    "string.punctuation"
   ]
  },
  {
   "cell_type": "code",
   "execution_count": 3,
   "id": "6eb3e5a8",
   "metadata": {},
   "outputs": [
    {
     "name": "stdout",
     "output_type": "stream",
     "text": [
      "{'|', ']', '%', '^', '$', '(', '{', '.', '&', '+', '>', '!', '/', '_', '}', ',', ';', '[', ')', '~', '*', '`', '?', ':', '@', '=', '#', '-'}\n"
     ]
    }
   ],
   "source": [
    "s=set()\n",
    "for text in df['text']:\n",
    "    for i in re.findall(\"[!#$%&()*+,-./:;<=>?@[\\]^_`{|}~]\",text):\n",
    "        s.add(i)\n",
    "print(s)        "
   ]
  },
  {
   "cell_type": "code",
   "execution_count": 4,
   "id": "e1105a2d",
   "metadata": {},
   "outputs": [],
   "source": [
    "stop_words=stopwords.words('english')"
   ]
  },
  {
   "cell_type": "code",
   "execution_count": 5,
   "id": "3acb917b",
   "metadata": {},
   "outputs": [],
   "source": [
    "stemmer=PorterStemmer()\n",
    "clean_comments=[]\n",
    "\n",
    "for text in df['text']:\n",
    "    \n",
    "    x=re.sub('\"',\"\",text)\n",
    "    x=re.sub(\"[!#$%&()*+,-./:;<=>?@[\\]^`{|}~]\",\"\",x)\n",
    "    x=re.sub('[0-9]',\"\",x)\n",
    "    x=re.sub('\\d{1}/\\d{1}/\\d{4}',\"\",x)\n",
    "    x=re.sub('\\d{2}:\\d{2}',\"\",x)\n",
    "    x=re.sub('pm:',\"\",x)\n",
    "    x=re.sub(',',\"\",x)\n",
    "    x=re.sub(\"^\\s+\",\"\",x) #to remove extra spaces \n",
    "    x=re.sub(\"\\s+$\",\"\",x) #to remove extra spaces\n",
    "    x=re.sub(\"#\",\"\",x) #to remove hash in hastags\n",
    "    x=re.sub(\"@\",\"\",x) #to remove @ in mentions \n",
    "    x=re.sub(r\"http\\S+\", \"\", x) #to remove links\n",
    "    x=re.sub(\"(\\w+'\\w+)\", \"\", x) #to remove words like [i'm ,you've] with apostrophe\n",
    "    clean_text=[]\n",
    "    \n",
    "    for word in x.split():\n",
    "        if word.lower() not in stop_words:\n",
    "            clean_text.append(stemmer.stem(word))     \n",
    "\n",
    "    clean_comments.append(clean_text)"
   ]
  },
  {
   "cell_type": "code",
   "execution_count": 6,
   "id": "a2aa0d97",
   "metadata": {},
   "outputs": [
    {
     "name": "stdout",
     "output_type": "stream",
     "text": [
      "23\n",
      "14535\n"
     ]
    }
   ],
   "source": [
    "wordset=set()\n",
    "maxlen=0\n",
    "for sentence in clean_comments:\n",
    "    if(len(sentence)>maxlen):\n",
    "        maxlen=len(sentence)\n",
    "    for word in sentence:\n",
    "        wordset.add(word)\n",
    "print(maxlen)\n",
    "print(len(wordset))\n",
    "    "
   ]
  },
  {
   "cell_type": "code",
   "execution_count": 8,
   "id": "f8ab164c",
   "metadata": {
    "scrolled": true
   },
   "outputs": [
    {
     "data": {
      "text/plain": [
       "[['deed', 'reason', 'earthquak', 'may', 'allah', 'forgiv', 'us'],\n",
       " ['forest', 'fire', 'near', 'la', 'rong', 'sask', 'canada'],\n",
       " ['resid',\n",
       "  'ask',\n",
       "  \"'shelter\",\n",
       "  \"place'\",\n",
       "  'notifi',\n",
       "  'offic',\n",
       "  'evacu',\n",
       "  'shelter',\n",
       "  'place',\n",
       "  'order',\n",
       "  'expect'],\n",
       " ['peopl', 'receiv', 'wildfir', 'evacu', 'order', 'california'],\n",
       " ['got',\n",
       "  'sent',\n",
       "  'photo',\n",
       "  'rubi',\n",
       "  'alaska',\n",
       "  'smoke',\n",
       "  'wildfir',\n",
       "  'pour',\n",
       "  'school'],\n",
       " ['rockyfir',\n",
       "  'updat',\n",
       "  'california',\n",
       "  'hwi',\n",
       "  'close',\n",
       "  'direct',\n",
       "  'due',\n",
       "  'lake',\n",
       "  'counti',\n",
       "  'fire',\n",
       "  'cafir',\n",
       "  'wildfir'],\n",
       " ['flood',\n",
       "  'disast',\n",
       "  'heavi',\n",
       "  'rain',\n",
       "  'caus',\n",
       "  'flash',\n",
       "  'flood',\n",
       "  'street',\n",
       "  'manit',\n",
       "  'colorado',\n",
       "  'spring',\n",
       "  'area'],\n",
       " ['top', 'hill', 'see', 'fire', 'wood'],\n",
       " ['emerg', 'evacu', 'happen', 'build', 'across', 'street'],\n",
       " ['afraid', 'tornado', 'come', 'area']]"
      ]
     },
     "execution_count": 8,
     "metadata": {},
     "output_type": "execute_result"
    }
   ],
   "source": [
    "clean_comments[0:10]"
   ]
  },
  {
   "cell_type": "code",
   "execution_count": 22,
   "id": "29972a46",
   "metadata": {},
   "outputs": [],
   "source": [
    "df['text']=clean_comments"
   ]
  },
  {
   "cell_type": "code",
   "execution_count": 23,
   "id": "76906089",
   "metadata": {},
   "outputs": [],
   "source": [
    "tokenizer = Tokenizer(num_words = 8000 ,split=' ')\n",
    "tokenizer.fit_on_texts(df['text'].values) # to fit the data\n",
    "x = tokenizer.texts_to_sequences(df['text'].values) # to change words to numbers  \n",
    "X= pad_sequences(x,maxlen=23,padding='post',value=0)"
   ]
  },
  {
   "cell_type": "code",
   "execution_count": 24,
   "id": "c6c402b5",
   "metadata": {
    "scrolled": false
   },
   "outputs": [
    {
     "data": {
      "text/plain": [
       "array([[3690,  450,  206, ...,    0,    0,    0],\n",
       "       [ 136,    2,  181, ...,    0,    0,    0],\n",
       "       [1350,  506, 5349, ...,    0,    0,    0],\n",
       "       ...,\n",
       "       [3463,  445, 1340, ...,    0,    0,    0],\n",
       "       [  27,  171, 2659, ...,    0,    0,    0],\n",
       "       [ 162,   28,  408, ...,    0,    0,    0]])"
      ]
     },
     "execution_count": 24,
     "metadata": {},
     "output_type": "execute_result"
    }
   ],
   "source": [
    "X"
   ]
  },
  {
   "cell_type": "code",
   "execution_count": 66,
   "id": "f3e906b4",
   "metadata": {},
   "outputs": [],
   "source": [
    "dfnew=pd.DataFrame(X)"
   ]
  },
  {
   "cell_type": "code",
   "execution_count": 72,
   "id": "4c1f0512",
   "metadata": {},
   "outputs": [],
   "source": [
    "dftrail=pd.concat([dfnew,df.drop(['text','id'],axis=1).replace(np.nan,\"unknown\")],axis=1)"
   ]
  },
  {
   "cell_type": "code",
   "execution_count": 73,
   "id": "0b3b6617",
   "metadata": {},
   "outputs": [],
   "source": [
    "le=LabelEncoder()\n",
    "dftrail['keyword']=le.fit_transform(df['keyword'])\n",
    "dftrail['location']=le.fit_transform(df['location'])"
   ]
  },
  {
   "cell_type": "code",
   "execution_count": 87,
   "id": "c515cb66",
   "metadata": {},
   "outputs": [],
   "source": [
    "X=dftrail.drop(['target','location'],axis=1)\n",
    "y=dftrail['target']"
   ]
  },
  {
   "cell_type": "code",
   "execution_count": 88,
   "id": "d38a00fb",
   "metadata": {},
   "outputs": [
    {
     "data": {
      "text/html": [
       "<div>\n",
       "<style scoped>\n",
       "    .dataframe tbody tr th:only-of-type {\n",
       "        vertical-align: middle;\n",
       "    }\n",
       "\n",
       "    .dataframe tbody tr th {\n",
       "        vertical-align: top;\n",
       "    }\n",
       "\n",
       "    .dataframe thead th {\n",
       "        text-align: right;\n",
       "    }\n",
       "</style>\n",
       "<table border=\"1\" class=\"dataframe\">\n",
       "  <thead>\n",
       "    <tr style=\"text-align: right;\">\n",
       "      <th></th>\n",
       "      <th>0</th>\n",
       "      <th>1</th>\n",
       "      <th>2</th>\n",
       "      <th>3</th>\n",
       "      <th>4</th>\n",
       "      <th>5</th>\n",
       "      <th>6</th>\n",
       "      <th>7</th>\n",
       "      <th>8</th>\n",
       "      <th>9</th>\n",
       "      <th>...</th>\n",
       "      <th>16</th>\n",
       "      <th>17</th>\n",
       "      <th>18</th>\n",
       "      <th>19</th>\n",
       "      <th>20</th>\n",
       "      <th>21</th>\n",
       "      <th>22</th>\n",
       "      <th>keyword</th>\n",
       "      <th>location</th>\n",
       "      <th>target</th>\n",
       "    </tr>\n",
       "  </thead>\n",
       "  <tbody>\n",
       "    <tr>\n",
       "      <th>0</th>\n",
       "      <td>3690</td>\n",
       "      <td>450</td>\n",
       "      <td>206</td>\n",
       "      <td>85</td>\n",
       "      <td>1349</td>\n",
       "      <td>2893</td>\n",
       "      <td>15</td>\n",
       "      <td>0</td>\n",
       "      <td>0</td>\n",
       "      <td>0</td>\n",
       "      <td>...</td>\n",
       "      <td>0</td>\n",
       "      <td>0</td>\n",
       "      <td>0</td>\n",
       "      <td>0</td>\n",
       "      <td>0</td>\n",
       "      <td>0</td>\n",
       "      <td>0</td>\n",
       "      <td>221</td>\n",
       "      <td>3341</td>\n",
       "      <td>1</td>\n",
       "    </tr>\n",
       "    <tr>\n",
       "      <th>1</th>\n",
       "      <td>136</td>\n",
       "      <td>2</td>\n",
       "      <td>181</td>\n",
       "      <td>481</td>\n",
       "      <td>5347</td>\n",
       "      <td>5348</td>\n",
       "      <td>1174</td>\n",
       "      <td>0</td>\n",
       "      <td>0</td>\n",
       "      <td>0</td>\n",
       "      <td>...</td>\n",
       "      <td>0</td>\n",
       "      <td>0</td>\n",
       "      <td>0</td>\n",
       "      <td>0</td>\n",
       "      <td>0</td>\n",
       "      <td>0</td>\n",
       "      <td>0</td>\n",
       "      <td>221</td>\n",
       "      <td>3341</td>\n",
       "      <td>1</td>\n",
       "    </tr>\n",
       "    <tr>\n",
       "      <th>2</th>\n",
       "      <td>1350</td>\n",
       "      <td>506</td>\n",
       "      <td>5349</td>\n",
       "      <td>5350</td>\n",
       "      <td>5351</td>\n",
       "      <td>216</td>\n",
       "      <td>32</td>\n",
       "      <td>2077</td>\n",
       "      <td>389</td>\n",
       "      <td>325</td>\n",
       "      <td>...</td>\n",
       "      <td>0</td>\n",
       "      <td>0</td>\n",
       "      <td>0</td>\n",
       "      <td>0</td>\n",
       "      <td>0</td>\n",
       "      <td>0</td>\n",
       "      <td>0</td>\n",
       "      <td>221</td>\n",
       "      <td>3341</td>\n",
       "      <td>1</td>\n",
       "    </tr>\n",
       "    <tr>\n",
       "      <th>3</th>\n",
       "      <td>10</td>\n",
       "      <td>2410</td>\n",
       "      <td>100</td>\n",
       "      <td>32</td>\n",
       "      <td>325</td>\n",
       "      <td>45</td>\n",
       "      <td>0</td>\n",
       "      <td>0</td>\n",
       "      <td>0</td>\n",
       "      <td>0</td>\n",
       "      <td>...</td>\n",
       "      <td>0</td>\n",
       "      <td>0</td>\n",
       "      <td>0</td>\n",
       "      <td>0</td>\n",
       "      <td>0</td>\n",
       "      <td>0</td>\n",
       "      <td>0</td>\n",
       "      <td>221</td>\n",
       "      <td>3341</td>\n",
       "      <td>1</td>\n",
       "    </tr>\n",
       "    <tr>\n",
       "      <th>4</th>\n",
       "      <td>50</td>\n",
       "      <td>1027</td>\n",
       "      <td>140</td>\n",
       "      <td>5352</td>\n",
       "      <td>1817</td>\n",
       "      <td>191</td>\n",
       "      <td>100</td>\n",
       "      <td>2411</td>\n",
       "      <td>127</td>\n",
       "      <td>0</td>\n",
       "      <td>...</td>\n",
       "      <td>0</td>\n",
       "      <td>0</td>\n",
       "      <td>0</td>\n",
       "      <td>0</td>\n",
       "      <td>0</td>\n",
       "      <td>0</td>\n",
       "      <td>0</td>\n",
       "      <td>221</td>\n",
       "      <td>3341</td>\n",
       "      <td>1</td>\n",
       "    </tr>\n",
       "    <tr>\n",
       "      <th>...</th>\n",
       "      <td>...</td>\n",
       "      <td>...</td>\n",
       "      <td>...</td>\n",
       "      <td>...</td>\n",
       "      <td>...</td>\n",
       "      <td>...</td>\n",
       "      <td>...</td>\n",
       "      <td>...</td>\n",
       "      <td>...</td>\n",
       "      <td>...</td>\n",
       "      <td>...</td>\n",
       "      <td>...</td>\n",
       "      <td>...</td>\n",
       "      <td>...</td>\n",
       "      <td>...</td>\n",
       "      <td>...</td>\n",
       "      <td>...</td>\n",
       "      <td>...</td>\n",
       "      <td>...</td>\n",
       "      <td>...</td>\n",
       "      <td>...</td>\n",
       "    </tr>\n",
       "    <tr>\n",
       "      <th>7608</th>\n",
       "      <td>67</td>\n",
       "      <td>663</td>\n",
       "      <td>1007</td>\n",
       "      <td>520</td>\n",
       "      <td>290</td>\n",
       "      <td>44</td>\n",
       "      <td>543</td>\n",
       "      <td>28</td>\n",
       "      <td>0</td>\n",
       "      <td>0</td>\n",
       "      <td>...</td>\n",
       "      <td>0</td>\n",
       "      <td>0</td>\n",
       "      <td>0</td>\n",
       "      <td>0</td>\n",
       "      <td>0</td>\n",
       "      <td>0</td>\n",
       "      <td>0</td>\n",
       "      <td>221</td>\n",
       "      <td>3341</td>\n",
       "      <td>1</td>\n",
       "    </tr>\n",
       "    <tr>\n",
       "      <th>7609</th>\n",
       "      <td>5326</td>\n",
       "      <td>5327</td>\n",
       "      <td>555</td>\n",
       "      <td>249</td>\n",
       "      <td>2</td>\n",
       "      <td>45</td>\n",
       "      <td>89</td>\n",
       "      <td>146</td>\n",
       "      <td>320</td>\n",
       "      <td>168</td>\n",
       "      <td>...</td>\n",
       "      <td>0</td>\n",
       "      <td>0</td>\n",
       "      <td>0</td>\n",
       "      <td>0</td>\n",
       "      <td>0</td>\n",
       "      <td>0</td>\n",
       "      <td>0</td>\n",
       "      <td>221</td>\n",
       "      <td>3341</td>\n",
       "      <td>1</td>\n",
       "    </tr>\n",
       "    <tr>\n",
       "      <th>7610</th>\n",
       "      <td>3463</td>\n",
       "      <td>445</td>\n",
       "      <td>1340</td>\n",
       "      <td>0</td>\n",
       "      <td>0</td>\n",
       "      <td>0</td>\n",
       "      <td>0</td>\n",
       "      <td>0</td>\n",
       "      <td>0</td>\n",
       "      <td>0</td>\n",
       "      <td>...</td>\n",
       "      <td>0</td>\n",
       "      <td>0</td>\n",
       "      <td>0</td>\n",
       "      <td>0</td>\n",
       "      <td>0</td>\n",
       "      <td>0</td>\n",
       "      <td>0</td>\n",
       "      <td>221</td>\n",
       "      <td>3341</td>\n",
       "      <td>1</td>\n",
       "    </tr>\n",
       "    <tr>\n",
       "      <th>7611</th>\n",
       "      <td>27</td>\n",
       "      <td>171</td>\n",
       "      <td>2659</td>\n",
       "      <td>112</td>\n",
       "      <td>52</td>\n",
       "      <td>255</td>\n",
       "      <td>4249</td>\n",
       "      <td>2659</td>\n",
       "      <td>1635</td>\n",
       "      <td>1081</td>\n",
       "      <td>...</td>\n",
       "      <td>0</td>\n",
       "      <td>0</td>\n",
       "      <td>0</td>\n",
       "      <td>0</td>\n",
       "      <td>0</td>\n",
       "      <td>0</td>\n",
       "      <td>0</td>\n",
       "      <td>221</td>\n",
       "      <td>3341</td>\n",
       "      <td>1</td>\n",
       "    </tr>\n",
       "    <tr>\n",
       "      <th>7612</th>\n",
       "      <td>162</td>\n",
       "      <td>28</td>\n",
       "      <td>408</td>\n",
       "      <td>146</td>\n",
       "      <td>45</td>\n",
       "      <td>100</td>\n",
       "      <td>525</td>\n",
       "      <td>3</td>\n",
       "      <td>0</td>\n",
       "      <td>0</td>\n",
       "      <td>...</td>\n",
       "      <td>0</td>\n",
       "      <td>0</td>\n",
       "      <td>0</td>\n",
       "      <td>0</td>\n",
       "      <td>0</td>\n",
       "      <td>0</td>\n",
       "      <td>0</td>\n",
       "      <td>221</td>\n",
       "      <td>3341</td>\n",
       "      <td>1</td>\n",
       "    </tr>\n",
       "  </tbody>\n",
       "</table>\n",
       "<p>7613 rows × 26 columns</p>\n",
       "</div>"
      ],
      "text/plain": [
       "         0     1     2     3     4     5     6     7     8     9  ...  16  17  \\\n",
       "0     3690   450   206    85  1349  2893    15     0     0     0  ...   0   0   \n",
       "1      136     2   181   481  5347  5348  1174     0     0     0  ...   0   0   \n",
       "2     1350   506  5349  5350  5351   216    32  2077   389   325  ...   0   0   \n",
       "3       10  2410   100    32   325    45     0     0     0     0  ...   0   0   \n",
       "4       50  1027   140  5352  1817   191   100  2411   127     0  ...   0   0   \n",
       "...    ...   ...   ...   ...   ...   ...   ...   ...   ...   ...  ...  ..  ..   \n",
       "7608    67   663  1007   520   290    44   543    28     0     0  ...   0   0   \n",
       "7609  5326  5327   555   249     2    45    89   146   320   168  ...   0   0   \n",
       "7610  3463   445  1340     0     0     0     0     0     0     0  ...   0   0   \n",
       "7611    27   171  2659   112    52   255  4249  2659  1635  1081  ...   0   0   \n",
       "7612   162    28   408   146    45   100   525     3     0     0  ...   0   0   \n",
       "\n",
       "      18  19  20  21  22  keyword  location  target  \n",
       "0      0   0   0   0   0      221      3341       1  \n",
       "1      0   0   0   0   0      221      3341       1  \n",
       "2      0   0   0   0   0      221      3341       1  \n",
       "3      0   0   0   0   0      221      3341       1  \n",
       "4      0   0   0   0   0      221      3341       1  \n",
       "...   ..  ..  ..  ..  ..      ...       ...     ...  \n",
       "7608   0   0   0   0   0      221      3341       1  \n",
       "7609   0   0   0   0   0      221      3341       1  \n",
       "7610   0   0   0   0   0      221      3341       1  \n",
       "7611   0   0   0   0   0      221      3341       1  \n",
       "7612   0   0   0   0   0      221      3341       1  \n",
       "\n",
       "[7613 rows x 26 columns]"
      ]
     },
     "execution_count": 88,
     "metadata": {},
     "output_type": "execute_result"
    }
   ],
   "source": [
    "dftrail"
   ]
  },
  {
   "cell_type": "markdown",
   "id": "6fd38e16",
   "metadata": {},
   "source": [
    "## ----------------------------------------------------------------------------------------------------------------------------------"
   ]
  },
  {
   "cell_type": "markdown",
   "id": "3567bd63",
   "metadata": {},
   "source": [
    "## 10- Prepare train, test sets"
   ]
  },
  {
   "cell_type": "code",
   "execution_count": 89,
   "id": "9617a15c",
   "metadata": {
    "scrolled": true
   },
   "outputs": [],
   "source": [
    "X_train, X_test, y_train, y_test = train_test_split(X, y, test_size=0.2, random_state=2002)"
   ]
  },
  {
   "cell_type": "markdown",
   "id": "0986c25d",
   "metadata": {},
   "source": [
    "## ----------------------------------------------------------------------------------------------------------------------------------"
   ]
  },
  {
   "cell_type": "markdown",
   "id": "85187abe",
   "metadata": {},
   "source": [
    "## 11- Train your LSTM structure"
   ]
  },
  {
   "cell_type": "code",
   "execution_count": 142,
   "id": "b28915e5",
   "metadata": {},
   "outputs": [
    {
     "name": "stdout",
     "output_type": "stream",
     "text": [
      "Model: \"sequential_13\"\n",
      "_________________________________________________________________\n",
      " Layer (type)                Output Shape              Param #   \n",
      "=================================================================\n",
      " embedding_13 (Embedding)    (None, 24, 20)            353020    \n",
      "                                                                 \n",
      " lstm_13 (LSTM)              (None, 250)               271000    \n",
      "                                                                 \n",
      " dropout_59 (Dropout)        (None, 250)               0         \n",
      "                                                                 \n",
      " dense_59 (Dense)            (None, 32)                8032      \n",
      "                                                                 \n",
      " dropout_60 (Dropout)        (None, 32)                0         \n",
      "                                                                 \n",
      " dense_60 (Dense)            (None, 64)                2112      \n",
      "                                                                 \n",
      " dropout_61 (Dropout)        (None, 64)                0         \n",
      "                                                                 \n",
      " dense_61 (Dense)            (None, 32)                2080      \n",
      "                                                                 \n",
      " dropout_62 (Dropout)        (None, 32)                0         \n",
      "                                                                 \n",
      " dense_62 (Dense)            (None, 64)                2112      \n",
      "                                                                 \n",
      " dropout_63 (Dropout)        (None, 64)                0         \n",
      "                                                                 \n",
      " dense_63 (Dense)            (None, 32)                2080      \n",
      "                                                                 \n",
      " dropout_64 (Dropout)        (None, 32)                0         \n",
      "                                                                 \n",
      " dense_64 (Dense)            (None, 64)                2112      \n",
      "                                                                 \n",
      " dropout_65 (Dropout)        (None, 64)                0         \n",
      "                                                                 \n",
      " dense_65 (Dense)            (None, 1)                 65        \n",
      "                                                                 \n",
      "=================================================================\n",
      "Total params: 642,613\n",
      "Trainable params: 642,613\n",
      "Non-trainable params: 0\n",
      "_________________________________________________________________\n"
     ]
    }
   ],
   "source": [
    "model=Sequential()\n",
    "model.add(Embedding(17651,20,input_length=24))\n",
    "\n",
    "model.add(LSTM(250))\n",
    "model.add(Dropout(0.2))\n",
    "\n",
    "model.add(Dense(32, activation='relu'))\n",
    "model.add(Dropout(0.2))\n",
    "\n",
    "model.add(Dense(64, activation='relu'))\n",
    "model.add(Dropout(0.2))\n",
    "\n",
    "model.add(Dense(32, activation='relu'))\n",
    "model.add(Dropout(0.2))\n",
    "\n",
    "model.add(Dense(64, activation='relu'))\n",
    "model.add(Dropout(0.2))\n",
    "\n",
    "model.add(Dense(32, activation='relu'))\n",
    "model.add(Dropout(0.2))\n",
    "\n",
    "model.add(Dense(64, activation='relu'))\n",
    "model.add(Dropout(0.2))\n",
    "\n",
    "model.add(Dense(1, activation='sigmoid'))\n",
    "\n",
    "model.summary()"
   ]
  },
  {
   "cell_type": "code",
   "execution_count": 143,
   "id": "59099f86",
   "metadata": {},
   "outputs": [],
   "source": [
    "model.compile(optimizer=RMSprop(learning_rate=0.001),loss='binary_crossentropy',metrics=['accuracy'])"
   ]
  },
  {
   "cell_type": "code",
   "execution_count": 144,
   "id": "1679433c",
   "metadata": {
    "scrolled": true
   },
   "outputs": [
    {
     "name": "stdout",
     "output_type": "stream",
     "text": [
      "Epoch 1/8\n",
      "21/21 [==============================] - 5s 146ms/step - loss: 0.6821 - accuracy: 0.5722 - val_loss: 0.6704 - val_accuracy: 0.5791\n",
      "Epoch 2/8\n",
      "21/21 [==============================] - 3s 129ms/step - loss: 0.6004 - accuracy: 0.6309 - val_loss: 0.5770 - val_accuracy: 0.7406\n",
      "Epoch 3/8\n",
      "21/21 [==============================] - 3s 137ms/step - loss: 0.5389 - accuracy: 0.8064 - val_loss: 0.5367 - val_accuracy: 0.7630\n",
      "Epoch 4/8\n",
      "21/21 [==============================] - 3s 156ms/step - loss: 0.4578 - accuracy: 0.8315 - val_loss: 0.4742 - val_accuracy: 0.7794\n",
      "Epoch 5/8\n",
      "21/21 [==============================] - 3s 152ms/step - loss: 0.3633 - accuracy: 0.8642 - val_loss: 0.4694 - val_accuracy: 0.7886\n",
      "Epoch 6/8\n",
      "21/21 [==============================] - 3s 148ms/step - loss: 0.3282 - accuracy: 0.8862 - val_loss: 0.4823 - val_accuracy: 0.7846\n",
      "Epoch 7/8\n",
      "21/21 [==============================] - 3s 148ms/step - loss: 0.2711 - accuracy: 0.9077 - val_loss: 0.6496 - val_accuracy: 0.7774\n",
      "Epoch 8/8\n",
      "21/21 [==============================] - 3s 150ms/step - loss: 0.2507 - accuracy: 0.9199 - val_loss: 0.5067 - val_accuracy: 0.7774\n"
     ]
    }
   ],
   "source": [
    "history =model.fit(X_train,y_train, batch_size=300,epochs=8,validation_data=(X_test, y_test),shuffle=1)"
   ]
  },
  {
   "cell_type": "markdown",
   "id": "832e4e8a",
   "metadata": {},
   "source": [
    "## ----------------------------------------------------------------------------------------------------------------------------------"
   ]
  },
  {
   "cell_type": "markdown",
   "id": "d74ee77d",
   "metadata": {},
   "source": [
    "## 12- Evaluate the model and make predictions"
   ]
  },
  {
   "cell_type": "code",
   "execution_count": 122,
   "id": "e139f19a",
   "metadata": {
    "scrolled": false
   },
   "outputs": [],
   "source": [
    "df_test=pd.concat([X_test,y_test],axis=1)"
   ]
  },
  {
   "cell_type": "code",
   "execution_count": 123,
   "id": "edc0cf66",
   "metadata": {},
   "outputs": [],
   "source": [
    "df_test['pred']=model.predict(X_test)"
   ]
  },
  {
   "cell_type": "code",
   "execution_count": 134,
   "id": "219cd0ff",
   "metadata": {
    "scrolled": false
   },
   "outputs": [
    {
     "data": {
      "text/html": [
       "<div>\n",
       "<style scoped>\n",
       "    .dataframe tbody tr th:only-of-type {\n",
       "        vertical-align: middle;\n",
       "    }\n",
       "\n",
       "    .dataframe tbody tr th {\n",
       "        vertical-align: top;\n",
       "    }\n",
       "\n",
       "    .dataframe thead th {\n",
       "        text-align: right;\n",
       "    }\n",
       "</style>\n",
       "<table border=\"1\" class=\"dataframe\">\n",
       "  <thead>\n",
       "    <tr style=\"text-align: right;\">\n",
       "      <th></th>\n",
       "      <th>target</th>\n",
       "      <th>pred</th>\n",
       "    </tr>\n",
       "  </thead>\n",
       "  <tbody>\n",
       "    <tr>\n",
       "      <th>781</th>\n",
       "      <td>0</td>\n",
       "      <td>0.045541</td>\n",
       "    </tr>\n",
       "    <tr>\n",
       "      <th>1595</th>\n",
       "      <td>0</td>\n",
       "      <td>0.037397</td>\n",
       "    </tr>\n",
       "    <tr>\n",
       "      <th>902</th>\n",
       "      <td>0</td>\n",
       "      <td>0.052373</td>\n",
       "    </tr>\n",
       "    <tr>\n",
       "      <th>1860</th>\n",
       "      <td>0</td>\n",
       "      <td>0.036241</td>\n",
       "    </tr>\n",
       "    <tr>\n",
       "      <th>2652</th>\n",
       "      <td>0</td>\n",
       "      <td>0.036368</td>\n",
       "    </tr>\n",
       "    <tr>\n",
       "      <th>4727</th>\n",
       "      <td>0</td>\n",
       "      <td>0.026704</td>\n",
       "    </tr>\n",
       "    <tr>\n",
       "      <th>7271</th>\n",
       "      <td>1</td>\n",
       "      <td>0.967878</td>\n",
       "    </tr>\n",
       "    <tr>\n",
       "      <th>4992</th>\n",
       "      <td>0</td>\n",
       "      <td>0.031572</td>\n",
       "    </tr>\n",
       "    <tr>\n",
       "      <th>1200</th>\n",
       "      <td>0</td>\n",
       "      <td>0.142661</td>\n",
       "    </tr>\n",
       "    <tr>\n",
       "      <th>1557</th>\n",
       "      <td>1</td>\n",
       "      <td>0.932900</td>\n",
       "    </tr>\n",
       "  </tbody>\n",
       "</table>\n",
       "</div>"
      ],
      "text/plain": [
       "      target      pred\n",
       "781        0  0.045541\n",
       "1595       0  0.037397\n",
       "902        0  0.052373\n",
       "1860       0  0.036241\n",
       "2652       0  0.036368\n",
       "4727       0  0.026704\n",
       "7271       1  0.967878\n",
       "4992       0  0.031572\n",
       "1200       0  0.142661\n",
       "1557       1  0.932900"
      ]
     },
     "execution_count": 134,
     "metadata": {},
     "output_type": "execute_result"
    }
   ],
   "source": [
    "df_test[['target','pred']].sample(n=10) #to display 10 samples with there predictions  "
   ]
  },
  {
   "cell_type": "markdown",
   "id": "971dee98",
   "metadata": {},
   "source": [
    "## ---------------------------------------------------------------------------------------------------------------------------------- "
   ]
  },
  {
   "cell_type": "markdown",
   "id": "f6b2d2c1",
   "metadata": {},
   "source": [
    "## 13- Evaluate the results with charts of acc and loss\n"
   ]
  },
  {
   "cell_type": "code",
   "execution_count": 145,
   "id": "eefbd40e",
   "metadata": {
    "scrolled": true
   },
   "outputs": [
    {
     "data": {
      "image/png": "[encoded data removed]",
      "text/plain": [
       "<Figure size 432x288 with 1 Axes>"
      ]
     },
     "metadata": {
      "needs_background": "light"
     },
     "output_type": "display_data"
    }
   ],
   "source": [
    "plt.plot(history.history['accuracy'])\n",
    "plt.plot(history.history['val_accuracy'])\n",
    "plt.title('model accuracy')\n",
    "plt.ylabel('accuracy')\n",
    "plt.xlabel('epoch')\n",
    "plt.legend(['train', 'test'], loc='upper left')\n",
    "plt.show()"
   ]
  },
  {
   "cell_type": "code",
   "execution_count": 146,
   "id": "2237c0cb",
   "metadata": {},
   "outputs": [
    {
     "data": {
      "image/png": "[encoded data removed]",
      "text/plain": [
       "<Figure size 432x288 with 1 Axes>"
      ]
     },
     "metadata": {
      "needs_background": "light"
     },
     "output_type": "display_data"
    }
   ],
   "source": [
    "plt.plot(history.history['loss'])\n",
    "plt.plot(history.history['val_loss'])\n",
    "plt.title('model loss')\n",
    "plt.ylabel('loss')\n",
    "plt.xlabel('epoch')\n",
    "plt.legend(['train', 'test'], loc='upper left')\n",
    "plt.show()"
   ]
  },
  {
   "cell_type": "code",
   "execution_count": 148,
   "id": "85bf281f",
   "metadata": {},
   "outputs": [
    {
     "data": {
      "text/plain": [
       "93.97372742200328"
      ]
     },
     "execution_count": 148,
     "metadata": {},
     "output_type": "execute_result"
    }
   ],
   "source": [
    "train_accuracy = (metrics.accuracy_score(y_train,model.predict(X_train).round())*100)\n",
    "train_accuracy"
   ]
  },
  {
   "cell_type": "code",
   "execution_count": 162,
   "id": "9f297139",
   "metadata": {
    "scrolled": true
   },
   "outputs": [
    {
     "name": "stdout",
     "output_type": "stream",
     "text": [
      "Accuracy  is  :  0.7662508207485227\n",
      "Recall  is    :  0.6942277691107644\n",
      "Precision  is :  0.7355371900826446\n"
     ]
    }
   ],
   "source": [
    "print('Accuracy  is  : ', (metrics.accuracy_score(df_test['target'], round(df_test['pred']))))\n",
    "print('Recall  is    : ', (metrics.recall_score(df_test['target'], round(df_test['pred']))))\n",
    "print('Precision  is : ', (metrics.precision_score(df_test['target'], round(df_test['pred']))))"
   ]
  },
  {
   "cell_type": "code",
   "execution_count": 167,
   "id": "ea8bf5a4",
   "metadata": {},
   "outputs": [
    {
     "data": {
      "text/plain": [
       "array([[722, 160],\n",
       "       [196, 445]], dtype=int64)"
      ]
     },
     "execution_count": 167,
     "metadata": {},
     "output_type": "execute_result"
    }
   ],
   "source": [
    "conm = confusion_matrix(df_test['target'],round(df_test['pred']))\n",
    "conm"
   ]
  },
  {
   "cell_type": "code",
   "execution_count": 176,
   "id": "27125665",
   "metadata": {},
   "outputs": [
    {
     "data": {
      "image/png": "[encoded data removed]",
      "text/plain": [
       "<Figure size 504x360 with 2 Axes>"
      ]
     },
     "metadata": {
      "needs_background": "light"
     },
     "output_type": "display_data"
    }
   ],
   "source": [
    "plt.figure(figsize=(7, 5))\n",
    "sns.heatmap(conm,annot=True, fmt='', cmap='Blues')\n",
    "plt.show()"
   ]
  },
  {
   "cell_type": "markdown",
   "id": "7992d0db",
   "metadata": {},
   "source": [
    "## ----------------------------------------------------------------------------------------------------------------------------------"
   ]
  },
  {
   "cell_type": "markdown",
   "id": "9792f63d",
   "metadata": {},
   "source": [
    "## 14- Save your model"
   ]
  },
  {
   "cell_type": "code",
   "execution_count": 147,
   "id": "8b4cc8f4",
   "metadata": {
    "scrolled": true
   },
   "outputs": [
    {
     "name": "stderr",
     "output_type": "stream",
     "text": [
      "WARNING:absl:Found untraced functions such as lstm_cell_13_layer_call_fn, lstm_cell_13_layer_call_and_return_conditional_losses while saving (showing 2 of 2). These functions will not be directly callable after loading.\n"
     ]
    },
    {
     "name": "stdout",
     "output_type": "stream",
     "text": [
      "INFO:tensorflow:Assets written to: ram://d355c459-c15f-4c10-8e78-769c31d7bbd2/assets\n"
     ]
    },
    {
     "name": "stderr",
     "output_type": "stream",
     "text": [
      "INFO:tensorflow:Assets written to: ram://d355c459-c15f-4c10-8e78-769c31d7bbd2/assets\n",
      "WARNING:absl:<keras.layers.recurrent.LSTMCell object at 0x000002BB97095A30> has the same name 'LSTMCell' as a built-in Keras object. Consider renaming <class 'keras.layers.recurrent.LSTMCell'> to avoid naming conflicts when loading with `tf.keras.models.load_model`. If renaming is not possible, pass the object in the `custom_objects` parameter of the load function.\n"
     ]
    }
   ],
   "source": [
    "filename=\"LSTM.sav\"\n",
    "pck.dump(model,open(filename, 'wb'))"
   ]
  }
 ],
 "metadata": {
  "kernelspec": {
   "display_name": "Python 3",
   "language": "python",
   "name": "python3"
  },
  "language_info": {
   "codemirror_mode": {
    "name": "ipython",
    "version": 3
   },
   "file_extension": ".py",
   "mimetype": "text/x-python",
   "name": "python",
   "nbconvert_exporter": "python",
   "pygments_lexer": "ipython3",
   "version": "3.8.8"
  }
 },
 "nbformat": 4,
 "nbformat_minor": 5
}
